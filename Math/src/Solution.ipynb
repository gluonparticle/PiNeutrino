{
 "cells": [
  {
   "cell_type": "code",
   "execution_count": 1,
   "id": "4cf6e5bb-b868-4a3c-8d5c-5fd2dd00360c",
   "metadata": {},
   "outputs": [
    {
     "name": "stdin",
     "output_type": "stream",
     "text": [
      "Enter the initial value for x:  0\n",
      "Enter the initial value for y:  0\n",
      "Enter the number of terms required in the series:  5\n"
     ]
    },
    {
     "name": "stdout",
     "output_type": "stream",
     "text": [
      "y1=3.0000\n",
      "y2=9.0000\n",
      "y3=21.0000\n",
      "y4=45.0000\n"
     ]
    },
    {
     "data": {
      "text/latex": [
       "$\\displaystyle \\frac{15 x^{4}}{8} + \\frac{7 x^{3}}{2} + \\frac{9 x^{2}}{2} + 3 x$"
      ],
      "text/plain": [
       "15*x**4/8 + 7*x**3/2 + 9*x**2/2 + 3*x"
      ]
     },
     "metadata": {},
     "output_type": "display_data"
    },
    {
     "name": "stdin",
     "output_type": "stream",
     "text": [
      "Enter the value of x at which we have to find y:  0.1\n"
     ]
    },
    {
     "name": "stdout",
     "output_type": "stream",
     "text": [
      "y(0.1)=0.3487\n"
     ]
    }
   ],
   "source": [
    "###Question 1\n",
    "from sympy import*\n",
    "x,y=symbols('x,y')\n",
    "f= 2*y + 3*exp(x)\n",
    "x0=float(input('Enter the initial value for x: '))\n",
    "y0=float(input('Enter the initial value for y: '))\n",
    "n=int(input('Enter the number of terms required in the series: '))\n",
    "print('y1=%0.4f'%f.subs({x:x0, y:y0}))\n",
    "series=y0+(x-x0)*(f.subs({x:x0,y:y0}))\n",
    "dy=f\n",
    "for i in range (2,n):\n",
    "    dy=diff(dy,x)+diff(dy,y)*f\n",
    "    dy0=dy.subs({x:x0,y:y0})\n",
    "    print(f'y{i}=%0.4f'%dy0)\n",
    "    series=series+((((x-x0)**i)*dy0)/factorial(i))\n",
    "display(series)\n",
    "xvalue=float(input('Enter the value of x at which we have to find y: '))\n",
    "print(f'y({xvalue})=%0.4f'%series.subs({x:xvalue, y:y0}))"
   ]
  },
  {
   "cell_type": "code",
   "execution_count": 2,
   "id": "b3d0d4b3-f5e9-436b-bcff-5538b1e91873",
   "metadata": {},
   "outputs": [
    {
     "name": "stdin",
     "output_type": "stream",
     "text": [
      "Enter the initial value for x:  0\n",
      "Enter the initial value for y:  1\n",
      "Enter the the step length h:  0.2\n",
      "Enter the number of iterations required in Modified Eulers formula:  2\n",
      "Enter the total number of values of x at which y should be determined:  2\n"
     ]
    },
    {
     "name": "stdout",
     "output_type": "stream",
     "text": [
      "\n",
      "From Eulers formula: y= 1.1683\n",
      "\n",
      "From Modified Eulers method\n",
      "1-iteration : y = 1.1962\n",
      "2-iteration : y = 1.1972\n",
      "\n",
      "From Eulers formula: y= 1.4234\n",
      "\n",
      "From Modified Eulers method\n",
      "1-iteration : y = 1.4492\n",
      "2-iteration : y = 1.4496\n"
     ]
    }
   ],
   "source": [
    "#Question 2\n",
    "\n",
    "from sympy import*\n",
    "x,y=symbols('x,y')\n",
    "f=x+sin(y)\n",
    "x0=float(input('Enter the initial value for x: '))\n",
    "y0=float(input('Enter the initial value for y: '))\n",
    "h=float(input('Enter the the step length h: '))\n",
    "n=int(input('Enter the number of iterations required in Modified Eulers formula: '))\n",
    "m=int(input('Enter the total number of values of x at which y should be determined: '))\n",
    "for i in range (1,m+1):\n",
    "    yE=y0+h*f.subs({x:x0,y:y0})\n",
    "    x1=x0+h\n",
    "    yME=yE\n",
    "    print('\\nFrom Eulers formula: y= %0.4f'%yE)\n",
    "    print('\\nFrom Modified Eulers method')\n",
    "    for j in range (1,n+1):\n",
    "        yME=y0+(h/2)*(f.subs({x:x0,y:y0})+f.subs({x:x1 , y:yME}))\n",
    "        print(f'{j}-iteration : y = %0.4f'%yME)\n",
    "    x0=x1\n",
    "    y0=yME"
   ]
  },
  {
   "cell_type": "code",
   "execution_count": 3,
   "id": "248ac3f3-20f1-4800-b95e-3150d446e401",
   "metadata": {},
   "outputs": [
    {
     "name": "stdin",
     "output_type": "stream",
     "text": [
      "Enter the initial value of x:  0\n",
      "Enter the initial value of y:  0\n",
      "Enter the value for the step length h=  0.1\n"
     ]
    },
    {
     "name": "stdout",
     "output_type": "stream",
     "text": [
      "\n",
      "k1=0.3000 \tk2=0.3454 \tk3=0.3499 \tk4=0.4015\n",
      "y(0.1)=0.3487\n"
     ]
    }
   ],
   "source": [
    "#Question 3\n",
    "from math import*\n",
    "from sympy import*\n",
    "x,y=symbols('x,y')\n",
    "f=(2*y)+(3*e**x)\n",
    "x0=float(input('Enter the initial value of x: '))\n",
    "y0=float(input('Enter the initial value of y: '))\n",
    "h=float(input('Enter the value for the step length h= '))\n",
    "\n",
    "k1=h*f.subs({x:x0,y:y0})\n",
    "k2=h*f.subs({x:x0+(h/2) , y: y0+(k1/2)})\n",
    "\n",
    "k3=h*f.subs({x:x0+(h/2),y:y0+(k2/2)})\n",
    "k4=h*f.subs({x:x0+h,y:y0+k3})\n",
    "solution=y0+(1/6)*(k1+(2*k2)+(2*k3)+k4)\n",
    "print('\\nk1=%0.4f'%k1,'\\tk2=%0.4f'%k2,'\\tk3=%0.4f'%k3,'\\tk4=%0.4f'%k4)\n",
    "print(f'y({x0+h})=%0.4f'%solution)"
   ]
  },
  {
   "cell_type": "code",
   "execution_count": 4,
   "id": "b4db146f-68a7-44f8-931c-3c4f496e1c05",
   "metadata": {},
   "outputs": [
    {
     "name": "stdin",
     "output_type": "stream",
     "text": [
      "Enter the value for the step length h=  0.1\n"
     ]
    },
    {
     "name": "stdout",
     "output_type": "stream",
     "text": [
      "Enter the values for x and y\n"
     ]
    },
    {
     "name": "stdin",
     "output_type": "stream",
     "text": [
      "x0= 0\n",
      "y0:  2.4\n",
      "y1:  2.473\n",
      "y2:  3.129\n",
      "y3:  4.059\n"
     ]
    },
    {
     "name": "stdout",
     "output_type": "stream",
     "text": [
      "\n",
      "from Milnes Predictor formula y(0.4)=4.7083\n",
      "\n",
      "From Milnes Corecctor Formula\n",
      "1-Iteration:y(0.4)=4.4723\n",
      "2-Iteration:y(0.4)=4.4644\n",
      "3-Iteration:y(0.4)=4.4642\n"
     ]
    }
   ],
   "source": [
    "#Question 4\n",
    "\n",
    "#Milne's Predictor and Corrector Formula\n",
    "from sympy import*\n",
    "x,y=symbols('x,y')\n",
    "f=2*(e**x)+y\n",
    "h=float(input('Enter the value for the step length h= '))\n",
    "print('Enter the values for x and y')\n",
    "x0=float(input('x0='))\n",
    "x1=x0+h\n",
    "x2=x1+h\n",
    "x3=x2+h\n",
    "x4=x3+h\n",
    "y0=float(input('y0: '))\n",
    "y1=float(input('y1: '))\n",
    "y2=float(input('y2: '))\n",
    "y3=float(input('y3: '))\n",
    "f1=f.subs({x:x1,y:y1})\n",
    "f2=f.subs({x:x2,y:y2})\n",
    "f3=f.subs({x:x3,y:y3})\n",
    "y4p=y0+((4*h)/3)*(2*f1-f2+2*f3)\n",
    "print(f'\\nfrom Milnes Predictor formula y({x4})=%0.4f'%y4p)\n",
    "f4=f.subs({x:x4,y:y4p})\n",
    "yc=0\n",
    "dif=1\n",
    "i=1\n",
    "print('\\nFrom Milnes Corecctor Formula')\n",
    "while dif>0.0009:\n",
    "    y4c=y2+(h/3)*(f2+4*f3+f4)\n",
    "    dif=abs(y4c-yc)\n",
    "    yc=y4c\n",
    "    print(f'{i}-Iteration:y({x4})=%0.4f'%y4c)\n",
    "    f4=f.subs({x:x4,y:y4c})\n",
    "    i+=1"
   ]
  },
  {
   "cell_type": "code",
   "execution_count": 5,
   "id": "52aee85f-cb33-470c-9ddd-948125e74c18",
   "metadata": {},
   "outputs": [
    {
     "name": "stdout",
     "output_type": "stream",
     "text": [
      "\n",
      " Gradient of is\n"
     ]
    },
    {
     "data": {
      "text/latex": [
       "$\\displaystyle \\frac{\\partial}{\\partial x} \\left(x^{2} y + x z^{2} + y^{2} z\\right)\\mathbf{\\hat{v}_x} + \\frac{\\partial}{\\partial y} \\left(x^{2} y + x z^{2} + y^{2} z\\right)\\mathbf{\\hat{v}_y} + \\frac{\\partial}{\\partial z} \\left(x^{2} y + x z^{2} + y^{2} z\\right)\\mathbf{\\hat{v}_z}$"
      ],
      "text/plain": [
       "Derivative(x**2*y + x*z**2 + y**2*z, x)*v.x + Derivative(x**2*y + x*z**2 + y**2*z, y)*v.y + Derivative(x**2*y + x*z**2 + y**2*z, z)*v.z"
      ]
     },
     "metadata": {},
     "output_type": "display_data"
    },
    {
     "data": {
      "text/latex": [
       "$\\displaystyle (2 x y + z^{2})\\mathbf{\\hat{v}_x} + (x^{2} + 2 y z)\\mathbf{\\hat{v}_y} + (2 x z + y^{2})\\mathbf{\\hat{v}_z}$"
      ],
      "text/plain": [
       "(2*x*y + z**2)*v.x + (x**2 + 2*y*z)*v.y + (2*x*z + y**2)*v.z"
      ]
     },
     "metadata": {},
     "output_type": "display_data"
    },
    {
     "name": "stdout",
     "output_type": "stream",
     "text": [
      "Normal vector to the suface is \n"
     ]
    },
    {
     "data": {
      "text/latex": [
       "$\\displaystyle 3\\mathbf{\\hat{v}_x} + 3\\mathbf{\\hat{v}_y} + 3\\mathbf{\\hat{v}_z}$"
      ],
      "text/plain": [
       "3*v.x + 3*v.y + 3*v.z"
      ]
     },
     "metadata": {},
     "output_type": "display_data"
    }
   ],
   "source": [
    "# Question 5\n",
    "\n",
    "from sympy . physics . vector import * \n",
    "from sympy import *\n",
    "x, y, z=symbols ('x,y,z') \n",
    "v= ReferenceFrame ('v')\n",
    "ϕ=x**2*y + y**2*z + z**2*x\n",
    "\n",
    "print (\"\\n Gradient of is\")\n",
    "display (Derivative (ϕ, x) *v.x+Derivative (ϕ,y)*v.y+Derivative (ϕ,z) *v.z) \n",
    "grado= diff(ϕ,x)*v.x+diff(ϕ,y)*v.y+diff(ϕ,z) *v.z\n",
    "display(grado)\n",
    "NV=grado.subs({x:1,y: 1,z:1})\n",
    "print('Normal vector to the suface is ')\n",
    "display (NV)"
   ]
  },
  {
   "cell_type": "code",
   "execution_count": 20,
   "id": "71a1c4a7-8e6d-4366-91e4-425f81cb813e",
   "metadata": {},
   "outputs": [
    {
     "name": "stdout",
     "output_type": "stream",
     "text": [
      "\n",
      " Divergence of the vector f is \n"
     ]
    },
    {
     "data": {
      "text/latex": [
       "$\\displaystyle \\frac{\\partial}{\\partial x} \\left(- x^{2} + y z\\right) + \\frac{\\partial}{\\partial z} \\left(2 x z - 4 z\\right) + \\frac{\\partial}{\\partial y} \\left(- x z^{2} + 4 y\\right)$"
      ],
      "text/plain": [
       "Derivative(-x**2 + y*z, x) + Derivative(2*x*z - 4*z, z) + Derivative(-x*z**2 + 4*y, y)"
      ]
     },
     "metadata": {},
     "output_type": "display_data"
    },
    {
     "data": {
      "text/latex": [
       "$\\displaystyle 0$"
      ],
      "text/plain": [
       "0"
      ]
     },
     "metadata": {},
     "output_type": "display_data"
    },
    {
     "name": "stdout",
     "output_type": "stream",
     "text": [
      "The vector f is solenoidal\n"
     ]
    }
   ],
   "source": [
    "#Question6\n",
    "from sympy . physics . vector import * \n",
    "from sympy import *\n",
    "x, y, z=symbols ('x,y,z') \n",
    "v= ReferenceFrame ('v')\n",
    "f1=-x**2+y*z\n",
    "f2=-z**2*x +4*y\n",
    "f3=2*x*z-4*z\n",
    "f=f1*v.x+f2*v.y+f3*v.z\n",
    "\n",
    "print (\"\\n Divergence of the vector f is \") \n",
    "display (Derivative(f1,x)+Derivative(f2,y)+Derivative(f3,z))\n",
    "divf=diff(f1,x)+diff(f2,y)+diff(f3,z)\n",
    "display(divf)\n",
    "if divf==0:\n",
    "    print('The vector f is solenoidal')\n",
    "else:\n",
    "\n",
    "    print('The vector f is not solenoidal')"
   ]
  },
  {
   "cell_type": "code",
   "execution_count": 18,
   "id": "d372b0c1-b357-48d0-952f-7f3891a86676",
   "metadata": {},
   "outputs": [
    {
     "name": "stdout",
     "output_type": "stream",
     "text": [
      "curl of f is\n"
     ]
    },
    {
     "data": {
      "text/latex": [
       "$\\displaystyle (\\frac{\\partial}{\\partial y} x y z^{2} - \\frac{\\partial}{\\partial z} x y^{2} z)\\mathbf{\\hat{v}_x} + (- \\frac{\\partial}{\\partial x} x y z^{2} + \\frac{\\partial}{\\partial x} x^{2} y z)\\mathbf{\\hat{v}_z}$"
      ],
      "text/plain": [
       "(Derivative(x*y*z**2, y) - Derivative(x*y**2*z, z))*v.x + (-Derivative(x*y*z**2, x) + Derivative(x**2*y*z, x))*v.z"
      ]
     },
     "metadata": {},
     "output_type": "display_data"
    },
    {
     "data": {
      "text/latex": [
       "$\\displaystyle (- x y^{2} + x z^{2})\\mathbf{\\hat{v}_x} + (x^{2} y - y z^{2})\\mathbf{\\hat{v}_y} + (- x^{2} z + y^{2} z)\\mathbf{\\hat{v}_z}$"
      ],
      "text/plain": [
       "(-x*y**2 + x*z**2)*v.x + (x**2*y - y*z**2)*v.y + (-x**2*z + y**2*z)*v.z"
      ]
     },
     "metadata": {},
     "output_type": "display_data"
    },
    {
     "name": "stdout",
     "output_type": "stream",
     "text": [
      "The vector f is not Irrotational\n"
     ]
    }
   ],
   "source": [
    "# Question 7.a\n",
    "from sympy . physics . vector import *\n",
    "from sympy import *\n",
    "\n",
    "x,y,z=symbols ('x,y,z')\n",
    "v= ReferenceFrame('v')\n",
    "f1=x**2*y*z\n",
    "f2=x*y**2*z\n",
    "f3=x*y*z**2\n",
    "f=f1*v.x+f2*v.y+f3*v.z\n",
    "print(\"curl of f is\")\n",
    "display((Derivative(f3,y)-Derivative(f2,z))*v.x-((Derivative(f3,x)-Derivative(f1,x))*v.z))\n",
    "\n",
    "curlf=(diff(f3,y)-diff(f2,z))*v.x-(diff(f3,x)-diff(f1,z))*v.y+(diff(f2,x)-diff(f1,y))*v.z\n",
    "     \n",
    "\n",
    "display (curlf)\n",
    "if curlf==0:\n",
    "    print('The vector f is Irrotational')\n",
    "else:\n",
    "    print('The vector f is not Irrotational')"
   ]
  },
  {
   "cell_type": "code",
   "execution_count": 21,
   "id": "5254b575-5575-4663-ae8a-3ef0dcb72c77",
   "metadata": {},
   "outputs": [
    {
     "data": {
      "text/latex": [
       "$\\displaystyle \\int\\limits_{0}^{\\log{\\left(2 \\right)}}\\int\\limits_{0}^{x}\\int\\limits_{0}^{x + \\log{\\left(y \\right)}} e^{x + y + z}\\, dz\\, dy\\, dx$"
      ],
      "text/plain": [
       "Integral(exp(x + y + z), (z, 0, x + log(y)), (y, 0, x), (x, 0, log(2)))"
      ]
     },
     "metadata": {},
     "output_type": "display_data"
    },
    {
     "data": {
      "text/latex": [
       "$\\displaystyle - \\frac{19}{9} + \\frac{8 \\log{\\left(2 \\right)}}{3}$"
      ],
      "text/plain": [
       "-19/9 + 8*log(2)/3"
      ]
     },
     "metadata": {},
     "output_type": "display_data"
    }
   ],
   "source": [
    "#Question 8.a \n",
    "\n",
    "\n",
    "\n",
    "from sympy import * \n",
    "x, y, z=symbols ('x,y,z')\n",
    "f=exp(x+y+z)\n",
    "I=Integral(f,(z,0,x+log(y)),(y,0,x),(x,0,log(2))) \n",
    "display(I)\n",
    "I=integrate(f, (z,0,x+log(y)), (y,0,x),(x,0,log(2)))\n",
    "I=simplify(I)\n",
    "display(I)"
   ]
  },
  {
   "cell_type": "code",
   "execution_count": 24,
   "id": "5eb40d8e-3019-4152-b70c-178897f3992b",
   "metadata": {},
   "outputs": [
    {
     "data": {
      "text/latex": [
       "$\\displaystyle \\int\\limits_{0}^{4 a}\\int\\limits_{\\frac{x^{2}}{4 a}}^{2 \\sqrt{a x}} 1\\, dy\\, dx$"
      ],
      "text/plain": [
       "Integral(1, (y, x**2/(4*a), 2*sqrt(a*x)), (x, 0, 4*a))"
      ]
     },
     "metadata": {},
     "output_type": "display_data"
    },
    {
     "data": {
      "text/latex": [
       "$\\displaystyle - \\frac{16 a^{2}}{3} + \\frac{32 \\left(a^{2}\\right)^{\\frac{3}{2}}}{3 a}$"
      ],
      "text/plain": [
       "-16*a**2/3 + 32*(a**2)**(3/2)/(3*a)"
      ]
     },
     "metadata": {},
     "output_type": "display_data"
    }
   ],
   "source": [
    "#Question 8.b\n",
    "\n",
    "from sympy import *\n",
    "x,y,a=symbols ('x, y, a')\n",
    "A=Integral (1,(y,x**2/(4*a),2*sqrt(a*x)),(x,0,4*a)) \n",
    "display (A)\n",
    "A1=integrate(1,(y,x**2/(4*a),2*sqrt(a*x)),(x,0,4*a)) \n",
    "display (A1)"
   ]
  },
  {
   "cell_type": "code",
   "execution_count": 26,
   "id": "429bdcb0-6e28-4baa-8522-0188b1bb1a72",
   "metadata": {},
   "outputs": [
    {
     "data": {
      "text/latex": [
       "$\\displaystyle \\int\\limits_{0}^{1}\\int\\limits_{0}^{\\sqrt{1 - y^{2}}} x^{3} y\\, dx\\, dy$"
      ],
      "text/plain": [
       "Integral(x**3*y, (x, 0, sqrt(1 - y**2)), (y, 0, 1))"
      ]
     },
     "metadata": {},
     "output_type": "display_data"
    },
    {
     "name": "stdout",
     "output_type": "stream",
     "text": [
      "I= 1/24\n"
     ]
    }
   ],
   "source": [
    "#Question 9.a\n",
    "\n",
    "\n",
    "\n",
    "from sympy import*\n",
    "x,y=symbols('x,y') \n",
    "f=(x**3)*y\n",
    "I=Integral(f,(x,0,sqrt(1-y**2)),(y,0,1))\n",
    "display(I)\n",
    "I=integrate(f,(x,0,sqrt(1-y**2)), (y,0,1))\n",
    "print('I=',I)"
   ]
  },
  {
   "cell_type": "code",
   "execution_count": 27,
   "id": "21a89bd6-b313-4b41-8832-019f08ddace8",
   "metadata": {},
   "outputs": [
    {
     "data": {
      "text/latex": [
       "$\\displaystyle \\int\\limits_{0}^{a}\\int\\limits_{0}^{b \\left(1 - \\frac{x}{a}\\right)}\\int\\limits_{0}^{c \\left(1 - \\frac{y}{b} - \\frac{x}{a}\\right)} 1\\, dz\\, dy\\, dx$"
      ],
      "text/plain": [
       "Integral(1, (z, 0, c*(1 - y/b - x/a)), (y, 0, b*(1 - x/a)), (x, 0, a))"
      ]
     },
     "metadata": {},
     "output_type": "display_data"
    },
    {
     "data": {
      "text/latex": [
       "$\\displaystyle \\frac{a b c}{6}$"
      ],
      "text/plain": [
       "a*b*c/6"
      ]
     },
     "metadata": {},
     "output_type": "display_data"
    }
   ],
   "source": [
    "#Question 9.b\n",
    "from sympy import*\n",
    "x,y,z,a,b,c=symbols ('x,y,z,a,b,c')\n",
    "A=Integral(1,(z,0,c*(1-(x/a)-(y/b))), (y,0,b*(1-(x/a))),(x,0,a))\n",
    "display (A)\n",
    "A1=integrate (1,(z,0,c*(1-(x/a)-(y/b))), (y,0,b*(1-(x/a))),(x,0,a)) \n",
    "display (A1)"
   ]
  },
  {
   "cell_type": "code",
   "execution_count": 31,
   "id": "715ccee9-16ec-4523-9539-68bd55cc3e4b",
   "metadata": {},
   "outputs": [
    {
     "name": "stdin",
     "output_type": "stream",
     "text": [
      "Enter the value of n to find (n): 0.5\n",
      "Enter the value of n to find ẞ(m, n): 1.5\n"
     ]
    },
    {
     "name": "stdout",
     "output_type": "stream",
     "text": [
      "Γ(1.5) = 0.8862   \n",
      "г(0.5)=1.7725  \n",
      " ̃(1.5+0.5)=1.0000\n",
      "B(1.5, 0.5)=1.5708\n",
      "R.H.S= 1.5708\n",
      "ẞ(m,n)!=(r(m)*r(n))/(m+n)\n"
     ]
    }
   ],
   "source": [
    "#Question 10.a \n",
    "\n",
    "\n",
    "from sympy import *\n",
    "n=float(input('Enter the value of n to find (n):'))\n",
    "m=float(input('Enter the value of n to find ẞ(m, n):'))\n",
    "gn=gamma (n)\n",
    "gm=gamma (m)\n",
    "gmn=gamma (m+n)\n",
    "print(f'Γ({m}) = %0.4f '%gm, f' \\nг({n})=%0.4f'%gn, f' \\n ̃({m}+{n})=%0.4f'%gmn)\n",
    "bmn=beta(m, n)\n",
    "print(f'B({m}, {n})=%0.4f'%bmn)\n",
    "rhs=(gn*gm)/gmn\n",
    "print('R.H.S= %0.4f'%rhs)\n",
    "if bmn==rhs:\n",
    "    print('ẞ(m,n)=(г(m)*(n))/г(m+n)')\n",
    "else:\n",
    "\n",
    "    print('ẞ(m,n)!=(r(m)*r(n))/(m+n)')"
   ]
  },
  {
   "cell_type": "code",
   "execution_count": 29,
   "id": "dfbbc306-2b21-4a32-860d-37a99a0b8c14",
   "metadata": {},
   "outputs": [
    {
     "data": {
      "text/latex": [
       "$\\displaystyle \\int\\limits_{0}^{4 a}\\int\\limits_{\\frac{x^{2}}{4 a}}^{2 \\sqrt{a x}} 1\\, dy\\, dx = - \\frac{16 a^{2}}{3} + \\frac{32 \\left(a^{2}\\right)^{\\frac{3}{2}}}{3 a}$"
      ],
      "text/plain": [
       "Eq(Integral(1, (y, x**2/(4*a), 2*sqrt(a*x)), (x, 0, 4*a)), -16*a**2/3 + 32*(a**2)**(3/2)/(3*a))"
      ]
     },
     "metadata": {},
     "output_type": "display_data"
    }
   ],
   "source": [
    "#Question 10.b\n",
    "\n",
    "from sympy import *\n",
    "x,y,z,a,b,c,θ,r=symbols('x,y,z,a,b,c,θ,r')\n",
    "f=1\n",
    "\n",
    "A=Integral(f,(y,x**2/(4*a),2*sqrt(a*x)),(x,0,4*a))\n",
    "A2=integrate(f,(y,x**2/(4*a),2*sqrt(a*x)),(x,0,4*a))\n",
    "display(Eq(A,A2))"
   ]
  },
  {
   "cell_type": "code",
   "execution_count": null,
   "id": "7680001f-0351-47fc-80c8-8bf27c49124f",
   "metadata": {},
   "outputs": [],
   "source": []
  }
 ],
 "metadata": {
  "kernelspec": {
   "display_name": "Python 3 (ipykernel)",
   "language": "python",
   "name": "python3"
  },
  "language_info": {
   "codemirror_mode": {
    "name": "ipython",
    "version": 3
   },
   "file_extension": ".py",
   "mimetype": "text/x-python",
   "name": "python",
   "nbconvert_exporter": "python",
   "pygments_lexer": "ipython3",
   "version": "3.11.7"
  }
 },
 "nbformat": 4,
 "nbformat_minor": 5
}
