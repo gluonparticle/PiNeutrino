{
 "cells": [
  {
   "cell_type": "code",
   "execution_count": 1,
   "id": "84df1851-6f2f-40eb-9b9d-3f786e4c2098",
   "metadata": {},
   "outputs": [
    {
     "name": "stdout",
     "output_type": "stream",
     "text": [
      "hello,welcome\n"
     ]
    }
   ],
   "source": [
    "print(\"hello,welcome\")"
   ]
  },
  {
   "cell_type": "code",
   "execution_count": 2,
   "id": "d60c1b75-d886-4087-aa2d-e51d24f4ce3b",
   "metadata": {},
   "outputs": [
    {
     "name": "stdout",
     "output_type": "stream",
     "text": [
      "hi how are you ?\n"
     ]
    }
   ],
   "source": [
    "print(\"hi\",\"how\",\"are\",\"you\",\"?\")\n",
    "      "
   ]
  },
  {
   "cell_type": "code",
   "execution_count": 3,
   "id": "4f04ebe9-f1f7-447b-a7d1-9a27fec61f82",
   "metadata": {},
   "outputs": [
    {
     "name": "stdout",
     "output_type": "stream",
     "text": [
      "hi\thow\tare\tyou\t?\n"
     ]
    }
   ],
   "source": [
    "print(\"hi\\thow\\tare\\tyou\\t?\")"
   ]
  },
  {
   "cell_type": "code",
   "execution_count": 4,
   "id": "c6306927-b03c-4e7e-92b6-f3389ee89fa5",
   "metadata": {},
   "outputs": [
    {
     "name": "stdout",
     "output_type": "stream",
     "text": [
      "hi\n",
      "how\n",
      "are\n",
      "you\n",
      "?\n"
     ]
    }
   ],
   "source": [
    "print(\"hi\\nhow\\nare\\nyou\\n?\")"
   ]
  },
  {
   "cell_type": "code",
   "execution_count": 6,
   "id": "b2703e87-10d9-41c6-88a7-c0197e7890db",
   "metadata": {},
   "outputs": [
    {
     "name": "stdout",
     "output_type": "stream",
     "text": [
      "\u001b[95m hello, \u001b[96mpython\n"
     ]
    }
   ],
   "source": [
    "print(\"\\033[95m hello, \\033[96mpython\")"
   ]
  },
  {
   "cell_type": "code",
   "execution_count": 7,
   "id": "50fa36ea-6ec9-44b8-bc8b-3dda0048cf92",
   "metadata": {},
   "outputs": [
    {
     "name": "stdout",
     "output_type": "stream",
     "text": [
      "hello welcome hi, how are you?\n"
     ]
    }
   ],
   "source": [
    "print(\"hello welcome\",end=\" \")\n",
    "print(\"hi, how are you?\")"
   ]
  },
  {
   "cell_type": "code",
   "execution_count": 8,
   "id": "76b87d5a-78a0-4cb5-994a-84b44c1fee21",
   "metadata": {},
   "outputs": [
    {
     "name": "stdout",
     "output_type": "stream",
     "text": [
      "hello welcome\n",
      "hi how are you?\n"
     ]
    }
   ],
   "source": [
    "print(\"hello welcome\")\n",
    "print(\"hi how are you?\")"
   ]
  },
  {
   "cell_type": "code",
   "execution_count": 15,
   "id": "0ad87c96-d06b-4e5d-b8e6-5b984ef94361",
   "metadata": {},
   "outputs": [
    {
     "name": "stdout",
     "output_type": "stream",
     "text": [
      "5\n",
      "x+y= 5\n",
      "x-y= 5\n",
      "2 + 3 = 5\n",
      "2+3=5\n",
      "\u001b[93m2+3=5\n"
     ]
    }
   ],
   "source": [
    "x=2\n",
    "y=3\n",
    "print(x+y)\n",
    "print(\"x+y=\",x+y)\n",
    "print(\"x-y=\",x+y)\n",
    "print(x,\"+\",y,\"=\",x+y)\n",
    "print(f\"{x}+{y}={x+y}\")\n",
    "print(f\"\\033[93m{x}+{y}={x+y}\")"
   ]
  },
  {
   "cell_type": "code",
   "execution_count": 17,
   "id": "5b66eeb9-7965-46b0-a77b-30eb80cd5fff",
   "metadata": {},
   "outputs": [
    {
     "name": "stdout",
     "output_type": "stream",
     "text": [
      "x/y= 0.6666666666666666\n",
      "x/y=0\n",
      "x/y=0.666667\n",
      "x/y=0.67\n",
      "x/y=0.667\n"
     ]
    }
   ],
   "source": [
    "x=2\n",
    "y=3\n",
    "print(\"x/y=\",x/y)\n",
    "print(\"x/y=%d\"%(x/y))\n",
    "print(\"x/y=%f\"%(x/y))\n",
    "print(\"x/y=%.2f\"%(x/y))\n",
    "print(\"x/y=%.3f\"%(x/y))"
   ]
  },
  {
   "cell_type": "code",
   "execution_count": 22,
   "id": "21e7b1c7-1cc7-4bc4-8d35-1b0290dfccef",
   "metadata": {},
   "outputs": [
    {
     "name": "stdout",
     "output_type": "stream",
     "text": [
      "<class 'int'>\n",
      "<class 'int'>\n",
      "<class 'int'>\n",
      "<class 'int'>\n",
      "<class 'str'>\n",
      "<class 'list'>\n"
     ]
    }
   ],
   "source": [
    "a=10\n",
    "b=2\n",
    "c=2+3\n",
    "d=\"23\"\n",
    "e=[2,3,4]\n",
    "print(type(a))\n",
    "print(type(b))\n",
    "print(type(c))\n",
    "print(type(c))\n",
    "print(type(d))\n",
    "print(type(e))"
   ]
  },
  {
   "cell_type": "code",
   "execution_count": 24,
   "id": "8501a865-7f1a-4b39-aec8-8f5ff4b0834a",
   "metadata": {},
   "outputs": [
    {
     "name": "stdin",
     "output_type": "stream",
     "text": [
      "enter the number:  hi\n"
     ]
    },
    {
     "data": {
      "text/plain": [
       "str"
      ]
     },
     "execution_count": 24,
     "metadata": {},
     "output_type": "execute_result"
    }
   ],
   "source": [
    "x=input(\"enter the number: \")\n",
    "type(x)"
   ]
  },
  {
   "cell_type": "code",
   "execution_count": 25,
   "id": "ff1b0df8-c9e6-4863-89b1-e7dc0694d2cc",
   "metadata": {},
   "outputs": [
    {
     "name": "stdin",
     "output_type": "stream",
     "text": [
      "enter the number:  76\n"
     ]
    },
    {
     "data": {
      "text/plain": [
       "str"
      ]
     },
     "execution_count": 25,
     "metadata": {},
     "output_type": "execute_result"
    }
   ],
   "source": [
    "x=input(\"enter the number: \")\n",
    "type(x)"
   ]
  },
  {
   "cell_type": "code",
   "execution_count": 30,
   "id": "82590176-6677-4370-94aa-bcb1931da759",
   "metadata": {},
   "outputs": [
    {
     "name": "stdin",
     "output_type": "stream",
     "text": [
      "enter a number:  56\n"
     ]
    },
    {
     "data": {
      "text/plain": [
       "int"
      ]
     },
     "execution_count": 30,
     "metadata": {},
     "output_type": "execute_result"
    }
   ],
   "source": [
    "x=int(input(\"enter a number: \"))\n",
    "type(x)"
   ]
  },
  {
   "cell_type": "code",
   "execution_count": 31,
   "id": "ab707c76-7256-40e8-a0a4-2e54a9f1b388",
   "metadata": {},
   "outputs": [
    {
     "name": "stdin",
     "output_type": "stream",
     "text": [
      "enter a number:  gy\n"
     ]
    },
    {
     "ename": "ValueError",
     "evalue": "invalid literal for int() with base 10: 'gy'",
     "output_type": "error",
     "traceback": [
      "\u001b[1;31m---------------------------------------------------------------------------\u001b[0m",
      "\u001b[1;31mValueError\u001b[0m                                Traceback (most recent call last)",
      "Cell \u001b[1;32mIn[31], line 1\u001b[0m\n\u001b[1;32m----> 1\u001b[0m x\u001b[38;5;241m=\u001b[39m\u001b[38;5;28mint\u001b[39m(\u001b[38;5;28minput\u001b[39m(\u001b[38;5;124m\"\u001b[39m\u001b[38;5;124menter a number: \u001b[39m\u001b[38;5;124m\"\u001b[39m))\n\u001b[0;32m      2\u001b[0m \u001b[38;5;28mtype\u001b[39m(x)\n",
      "\u001b[1;31mValueError\u001b[0m: invalid literal for int() with base 10: 'gy'"
     ]
    }
   ],
   "source": [
    "x=int(input(\"enter a number: \"))\n",
    "type(x)"
   ]
  },
  {
   "cell_type": "code",
   "execution_count": 32,
   "id": "55fcb307-9c2c-4251-ac4f-bec38f852255",
   "metadata": {},
   "outputs": [
    {
     "name": "stdin",
     "output_type": "stream",
     "text": [
      "enter the integer:  45\n"
     ]
    },
    {
     "data": {
      "text/plain": [
       "float"
      ]
     },
     "execution_count": 32,
     "metadata": {},
     "output_type": "execute_result"
    }
   ],
   "source": [
    "x=float(input(\"enter the integer: \"))\n",
    "type(x)"
   ]
  },
  {
   "cell_type": "code",
   "execution_count": 33,
   "id": "88d3288c-ea7d-4dd1-8815-36de2a45512b",
   "metadata": {},
   "outputs": [
    {
     "name": "stdin",
     "output_type": "stream",
     "text": [
      "enter the integer:  56.9\n"
     ]
    },
    {
     "data": {
      "text/plain": [
       "float"
      ]
     },
     "execution_count": 33,
     "metadata": {},
     "output_type": "execute_result"
    }
   ],
   "source": [
    "x=float(input(\"enter the integer: \"))\n",
    "type(x)"
   ]
  },
  {
   "cell_type": "code",
   "execution_count": 34,
   "id": "28464311-d139-4905-8ccb-302de21c03bb",
   "metadata": {},
   "outputs": [
    {
     "name": "stdin",
     "output_type": "stream",
     "text": [
      "enter the integer:  hi\n"
     ]
    },
    {
     "ename": "ValueError",
     "evalue": "could not convert string to float: 'hi'",
     "output_type": "error",
     "traceback": [
      "\u001b[1;31m---------------------------------------------------------------------------\u001b[0m",
      "\u001b[1;31mValueError\u001b[0m                                Traceback (most recent call last)",
      "Cell \u001b[1;32mIn[34], line 1\u001b[0m\n\u001b[1;32m----> 1\u001b[0m x\u001b[38;5;241m=\u001b[39m\u001b[38;5;28mfloat\u001b[39m(\u001b[38;5;28minput\u001b[39m(\u001b[38;5;124m\"\u001b[39m\u001b[38;5;124menter the integer: \u001b[39m\u001b[38;5;124m\"\u001b[39m))\n\u001b[0;32m      2\u001b[0m \u001b[38;5;28mtype\u001b[39m(x)\n",
      "\u001b[1;31mValueError\u001b[0m: could not convert string to float: 'hi'"
     ]
    }
   ],
   "source": [
    "x=float(input(\"enter the integer: \"))\n",
    "type(x)"
   ]
  },
  {
   "cell_type": "code",
   "execution_count": 35,
   "id": "b1fc071a-7059-4070-96b4-f21bddeae468",
   "metadata": {},
   "outputs": [
    {
     "name": "stdin",
     "output_type": "stream",
     "text": [
      "enter a number:  34\n",
      "enter another number:  56\n"
     ]
    },
    {
     "name": "stdout",
     "output_type": "stream",
     "text": [
      "3456\n"
     ]
    }
   ],
   "source": [
    "x=input(\"enter a number: \")\n",
    "y=input(\"enter another number: \")\n",
    "print(x+y)"
   ]
  },
  {
   "cell_type": "code",
   "execution_count": 36,
   "id": "9ee1c278-22f0-432c-aecf-92b1ebd1b4f9",
   "metadata": {},
   "outputs": [
    {
     "name": "stdin",
     "output_type": "stream",
     "text": [
      "enter a number:  34\n",
      "enter another number:  56\n"
     ]
    },
    {
     "name": "stdout",
     "output_type": "stream",
     "text": [
      "90\n"
     ]
    }
   ],
   "source": [
    "x=int(input(\"enter a number: \"))\n",
    "y=int(input(\"enter another number: \"))\n",
    "print(x+y)"
   ]
  },
  {
   "cell_type": "code",
   "execution_count": 36,
   "id": "57bb6b71-383f-485c-9138-76bceef4a00d",
   "metadata": {},
   "outputs": [
    {
     "name": "stdin",
     "output_type": "stream",
     "text": [
      "enter a number:  34\n",
      "enter another number:  56\n"
     ]
    },
    {
     "name": "stdout",
     "output_type": "stream",
     "text": [
      "90\n"
     ]
    }
   ],
   "source": [
    "x=int(input(\"enter a number: \"))\n",
    "y=int(input(\"enter another number: \"))\n",
    "print(x+y)"
   ]
  },
  {
   "cell_type": "code",
   "execution_count": 37,
   "id": "965a2f4c-e0f6-4607-931c-96fec70e9de2",
   "metadata": {},
   "outputs": [
    {
     "name": "stdout",
     "output_type": "stream",
     "text": [
      "23+4= 27\n",
      "23-4=19\n",
      "23*4= 92\n",
      "23**4= 279841\n",
      "23/4= 5.75\n",
      "23//4= 5\n",
      "23%4= 3\n"
     ]
    }
   ],
   "source": [
    "x=23\n",
    "y=4\n",
    "print(f\"{x}+{y}= {x+y}\")\n",
    "print(f\"{x}-{y}={x-y}\")\n",
    "print(f\"{x}*{y}= {x*y}\")\n",
    "print(f\"{x}**{y}= {x**y}\")\n",
    "print(f\"{x}/{y}= {x/y}\")\n",
    "print(f\"{x}//{y}= {x//y}\")\n",
    "print(f\"{x}%{y}= {x%y}\")"
   ]
  },
  {
   "cell_type": "code",
   "execution_count": 38,
   "id": "c9d894f4-9447-4f0a-875b-7db5950e7b77",
   "metadata": {},
   "outputs": [
    {
     "name": "stdout",
     "output_type": "stream",
     "text": [
      "25.0\n"
     ]
    }
   ],
   "source": [
    "x=25/5*5+4**2%6-8/2\n",
    "print(x)"
   ]
  },
  {
   "cell_type": "code",
   "execution_count": 39,
   "id": "87922e51-4b4f-445b-a003-d0314fa6452f",
   "metadata": {},
   "outputs": [
    {
     "name": "stdout",
     "output_type": "stream",
     "text": [
      "x= 2.4 y= 2.4 z= 62.0\n"
     ]
    }
   ],
   "source": [
    "x=25//2/5\n",
    "y=(25//2)/5\n",
    "z=25//(2/5)\n",
    "print(\"x=\",x,\"y=\",y,\"z=\",z)"
   ]
  },
  {
   "cell_type": "code",
   "execution_count": 42,
   "id": "a2fed6e1-b915-4c84-a3f3-d12565bb17de",
   "metadata": {},
   "outputs": [
    {
     "name": "stdout",
     "output_type": "stream",
     "text": [
      "a= 7 \n",
      "b= 0 \n",
      "c= 6 \n",
      "d= 49 \n",
      "e 1\n"
     ]
    }
   ],
   "source": [
    "a,b,c,d,e=5,4,2,7,3\n",
    "a+=2\n",
    "b-=4\n",
    "c*=3\n",
    "d**=2\n",
    "e%=2\n",
    "print(\"a=\",a,\"\\nb=\",b,\"\\nc=\",c,\"\\nd=\",d,\"\\ne\",e)"
   ]
  },
  {
   "cell_type": "code",
   "execution_count": 43,
   "id": "00b500cd-f409-4f38-8743-c1a1196281c0",
   "metadata": {},
   "outputs": [
    {
     "name": "stdin",
     "output_type": "stream",
     "text": [
      "enter an integer:  34\n"
     ]
    },
    {
     "name": "stdout",
     "output_type": "stream",
     "text": [
      "34 is an even integer\n"
     ]
    }
   ],
   "source": [
    "x=int(input(\"enter an integer: \"))\n",
    "if x%2==0:\n",
    "        print(f\"{x} is an even integer\")"
   ]
  },
  {
   "cell_type": "code",
   "execution_count": 45,
   "id": "9c8309b1-317f-4951-9c4c-3a9a9f08db59",
   "metadata": {},
   "outputs": [
    {
     "name": "stdin",
     "output_type": "stream",
     "text": [
      "enter an integer:  45\n"
     ]
    },
    {
     "name": "stdout",
     "output_type": "stream",
     "text": [
      "45 is an odd integer\n"
     ]
    }
   ],
   "source": [
    "x=int(input(\"enter an integer: \"))\n",
    "if x%2==0:\n",
    "        print(f\"{x} is an even integer\")\n",
    "else:\n",
    "    print(f\"{x} is an odd integer\")"
   ]
  },
  {
   "cell_type": "code",
   "execution_count": 47,
   "id": "ae9f332f-b3e4-4bf9-bc16-f985f3054261",
   "metadata": {},
   "outputs": [
    {
     "name": "stdin",
     "output_type": "stream",
     "text": [
      "enter an integer 45\n",
      "enter another integer 78\n"
     ]
    },
    {
     "name": "stdout",
     "output_type": "stream",
     "text": [
      " 78 is greater than 45\n"
     ]
    }
   ],
   "source": [
    "x=int(input(\"enter an integer\"))\n",
    "y=int(input(\"enter another integer\"))\n",
    "if x==y:\n",
    "      print(f\" {x} and {y} is equal\")\n",
    "elif x>y:\n",
    "      print(f\" {x} is greater than {y}\")\n",
    "else:\n",
    "      print(f\" {y} is greater than {x}\")\n",
    "    "
   ]
  },
  {
   "cell_type": "code",
   "execution_count": 50,
   "id": "65ffa423-5eb4-422d-b11a-611850bfa84d",
   "metadata": {},
   "outputs": [
    {
     "name": "stdin",
     "output_type": "stream",
     "text": [
      "enter your name: shreshtha\n",
      "enter your marks in lab for 100 marks: 85\n"
     ]
    }
   ],
   "source": [
    "name=input(\"enter your name:\")\n",
    "marks=int(input(\"enter your marks in lab for 100 marks:\"))\n",
    "if marks>=70:\n",
    "    result=\"distinction\"\n",
    "elif marks >60:\n",
    "    result=\"first class\"\n",
    "elif marksd>50:\n",
    "    result=\"second class\"\n",
    "else:\n",
    "    result=\"fail\"\n",
    "    print(\"\\033[91mName: \",name,\"\\nMarks:\",marks, \"\\nResult: \",result)"
   ]
  },
  {
   "cell_type": "code",
   "execution_count": 51,
   "id": "4b35e745-5b0e-4200-8eb3-c328a1f8ed72",
   "metadata": {},
   "outputs": [
    {
     "name": "stdout",
     "output_type": "stream",
     "text": [
      "first element of the list is  33\n",
      "first element of the list is  66\n"
     ]
    }
   ],
   "source": [
    "x=[33,22,11,55 ,88,66]\n",
    "print(\"first element of the list is \",x[0])\n",
    "print(\"first element of the list is \",x[-1])\n"
   ]
  },
  {
   "cell_type": "code",
   "execution_count": 52,
   "id": "93ae1c45-3f7c-4bfa-ab12-f7bd416f55d7",
   "metadata": {},
   "outputs": [
    {
     "name": "stdout",
     "output_type": "stream",
     "text": [
      "x = [33, 22, 11, 55, 88, 66, 77]\n"
     ]
    }
   ],
   "source": [
    "x=[33,22,11,55 ,88,66]\n",
    "x.append(77)\n",
    "print(\"x =\",x)\n"
   ]
  },
  {
   "cell_type": "code",
   "execution_count": 53,
   "id": "8efd6d2f-1997-4b23-937d-702b927dedd2",
   "metadata": {},
   "outputs": [
    {
     "name": "stdout",
     "output_type": "stream",
     "text": [
      "x = [33, 22, 11, 55, 88]\n"
     ]
    }
   ],
   "source": [
    "x=[33,22,11,55 ,88,66]\n",
    "x.pop()\n",
    "print(\"x =\",x)"
   ]
  },
  {
   "cell_type": "code",
   "execution_count": 55,
   "id": "9baba168-12a6-4e6b-9cb2-e7150956f6d1",
   "metadata": {},
   "outputs": [
    {
     "name": "stdout",
     "output_type": "stream",
     "text": [
      "0\n",
      "1\n",
      "2\n",
      "3\n",
      "4\n",
      "5\n",
      "6\n",
      "7\n",
      "8\n",
      "9\n",
      "10\n",
      "End\n"
     ]
    }
   ],
   "source": [
    "for i in range(11):\n",
    "    print(i)\n",
    "print(\"End\")"
   ]
  },
  {
   "cell_type": "code",
   "execution_count": 1,
   "id": "0afc28be-517b-45fd-a26c-5997062628be",
   "metadata": {},
   "outputs": [
    {
     "name": "stdin",
     "output_type": "stream",
     "text": [
      "Enter the number of iterations:  4\n"
     ]
    },
    {
     "name": "stdout",
     "output_type": "stream",
     "text": [
      "Iteration \t  x\t\t f(x)\n",
      "1-Iteration  \tx1= 0.0000 \tf(x1)=1.0000\n",
      "2-Iteration  \tx2= -0.3333 \tf(x2)=0.1111\n",
      "3-Iteration  \tx3= -0.3810 \tf(x3)=0.0023\n",
      "4-Iteration  \tx4= -0.3820 \tf(x4)=0.0000\n"
     ]
    }
   ],
   "source": [
    "from sympy import*\n",
    "x=Symbol('x')\n",
    "f=x**2+3*x+1\n",
    "df=diff(f,x)\n",
    "x0=1\n",
    "n=int(input('Enter the number of iterations: '))\n",
    "i=1\n",
    "print('Iteration \\t  x\\t\\t f(x)')\n",
    "while i<=n:\n",
    "    fx0=f.subs(x,x0)\n",
    "    dfx0=df.subs(x,x0)\n",
    "    xi=x0-(fx0/dfx0)\n",
    "    fi=f.subs(x,xi)\n",
    "    print(f'{i}-Iteration',f' \\tx{i}= %0.4f'%xi,f'\\tf(x{i})=%0.4f'%fi)\n",
    "    x0=xi\n",
    "    i+=1"
   ]
  },
  {
   "cell_type": "code",
   "execution_count": 10,
   "id": "f32fe41a-08fb-4450-84be-941d6181a8b5",
   "metadata": {},
   "outputs": [
    {
     "name": "stdin",
     "output_type": "stream",
     "text": [
      "Enter the number of iteration:  5\n"
     ]
    },
    {
     "name": "stdout",
     "output_type": "stream",
     "text": [
      " a\t\t  b\t\t  f(a) \t  f(b)\t\t    x \t\t   f(x) \t    INTERVAL\n",
      "-3.0000\t\t -2.0000\t -6.0000\t 9.0000\t \tx1=-2.6000\t \tf(x1)=1.8240\t (-3.0000, -2.0000)\n",
      "-3.0000\t\t -2.6000\t -6.0000\t 1.8240\t \tx2=-2.6933\t \tf(x2)=0.2372\t (-3.0000, -2.6000)\n",
      "-3.0000\t\t -2.6933\t -6.0000\t 0.2372\t \tx3=-2.7049\t \tf(x3)=0.0289\t (-3.0000, -2.6933)\n",
      "-3.0000\t\t -2.7049\t -6.0000\t 0.0289\t \tx4=-2.7063\t \tf(x4)=0.0035\t (-3.0000, -2.7049)\n",
      "-3.0000\t\t -2.7063\t -6.0000\t 0.0035\t \tx5=-2.7065\t \tf(x5)=0.0004\t (-3.0000, -2.7063)\n"
     ]
    }
   ],
   "source": [
    "from sympy import*\n",
    "x=Symbol('x')\n",
    "f=x**3-4*x+9\n",
    "a=-3\n",
    "b=-2\n",
    "n=int(input('Enter the number of iteration: '))\n",
    "i=1\n",
    "print(' a\\t\\t  b\\t\\t  f(a) \\t  f(b)\\t\\t    x \\t\\t   f(x) \\t    INTERVAL')\n",
    "while i<=n:\n",
    "    fa=f.subs(x,a)\n",
    "    fb=f.subs(x,b)\n",
    "    xi=(a*fb-b*fa)/(fb-fa)\n",
    "    fi=f.subs(x,xi)\n",
    "    print('%0.4f\\t\\t'%a,'%0.4f\\t'%b, '%0.4f\\t'%fa,'%0.4f\\t'%fb, f'\\tx{i}=%0.4f\\t'%xi,f'\\tf(x{i})=%0.4f\\t'%fi,'(%0.4f,'%a,'%0.4f)'%b)\n",
    "    if   fi>0:\n",
    "        b=xi\n",
    "    elif fi<0:\n",
    "        a=xi\n",
    "    i+=1"
   ]
  },
  {
   "cell_type": "code",
   "execution_count": 1,
   "id": "f42a6b42-94a7-4b53-9860-f35b1c2a1684",
   "metadata": {},
   "outputs": [
    {
     "name": "stdin",
     "output_type": "stream",
     "text": [
      "Enter the value of lower limit:  0\n",
      "Enter the value of upper limit:  1\n",
      "Enter the number of division:  10\n"
     ]
    },
    {
     "name": "stdout",
     "output_type": "stream",
     "text": [
      "x0=0.0000 \t\t y0=1.0000\n",
      "x1=0.1000 \t\t y1=0.9901\n",
      "x2=0.2000 \t\t y2=0.9615\n",
      "x3=0.3000 \t\t y3=0.9174\n",
      "x4=0.4000 \t\t y4=0.8621\n",
      "x5=0.5000 \t\t y5=0.8000\n",
      "x6=0.6000 \t\t y6=0.7353\n",
      "x7=0.7000 \t\t y7=0.6711\n",
      "x8=0.8000 \t\t y8=0.6098\n",
      "x9=0.9000 \t\t y9=0.5525\n",
      "x10=1.0000 \t\t y10=0.5000\n",
      "Integral value from trapezoidal rule=0.7850\n",
      "Actual value of the integral=0.7854\n"
     ]
    }
   ],
   "source": [
    "#Trapezoidal rule\n",
    "from sympy import*\n",
    "t=Symbol('t')\n",
    "f=1/(1+t**2)\n",
    "a=float(input('Enter the value of lower limit: '))\n",
    "b=float(input('Enter the value of upper limit: '))\n",
    "n=int(input('Enter the number of division: '))\n",
    "x=zeros(n+1)\n",
    "y=zeros(n+1)\n",
    "h=(b-a)/n\n",
    "x[0]=a\n",
    "y[0]=f.subs(t,x[0])\n",
    "for i in range (0,n):\n",
    "    x[i+1]=x[i]+h\n",
    "    y[i+1]=f.subs(t,x[i+1])\n",
    "for i in range(0,n+1):\n",
    "    print(f'x{i}=%0.4f'%x[i],f'\\t\\t y{i}=%0.4f'%y[i])\n",
    "I1=0\n",
    "for i in range(1,n):\n",
    "    I1=I1+y[i]\n",
    "I=(h/2)*(y[0]+y[n]+2*I1)\n",
    "print('Integral value from trapezoidal rule=%0.4f'%I)\n",
    "actualvalue=integrate(1/(1+t**2),(t,a,b))\n",
    "print('Actual value of the integral=%0.4f'%actualvalue)"
   ]
  },
  {
   "cell_type": "code",
   "execution_count": 2,
   "id": "d1ac7670-97b1-4ed5-becf-103bbb32d8e8",
   "metadata": {},
   "outputs": [
    {
     "name": "stdin",
     "output_type": "stream",
     "text": [
      "Enter the value of lower limit:  1\n",
      "Enter the value of upper limit:  4\n",
      "Enter the number of division:  6\n"
     ]
    },
    {
     "name": "stdout",
     "output_type": "stream",
     "text": [
      "x0=1.0000 \t\t y0=2.7183\n",
      "x1=1.5000 \t\t y1=1.9477\n",
      "x2=2.0000 \t\t y2=1.6487\n",
      "x3=2.5000 \t\t y3=1.4918\n",
      "x4=3.0000 \t\t y4=1.3956\n",
      "x5=3.5000 \t\t y5=1.3307\n",
      "x6=4.0000 \t\t y6=1.2840\n",
      "Integral value from simpson one third rule= 4.8620\n",
      "Actual value of the integral =4.8555\n"
     ]
    }
   ],
   "source": [
    "#Simpson (1/3)rd rule\n",
    "from sympy import*\n",
    "t=Symbol('t')\n",
    "f=exp(1/t)\n",
    "a=float(input('Enter the value of lower limit: '))\n",
    "b=float(input('Enter the value of upper limit: '))\n",
    "n=int(input('Enter the number of division: '))\n",
    "x=zeros(n+1)\n",
    "y=zeros(n+1)\n",
    "h=(b-a)/n\n",
    "x[0]=a\n",
    "y[0]=f.subs(t,x[0])\n",
    "for i in range (0,n):\n",
    "    x[i+1]=x[i]+h\n",
    "    y[i+1]=f.subs(t,x[i+1])\n",
    "for i in range(0,n+1):\n",
    "    print(f'x{i}=%0.4f'%x[i],f'\\t\\t y{i}=%0.4f'%y[i])\n",
    "I1=0    \n",
    "I2=0 \n",
    "for i in range (1,n):\n",
    "    if i%2==0:\n",
    "        I2=I2+y[i]\n",
    "    else:\n",
    "        I1=I1+y[i]\n",
    "I=(h/3)*(y[0]+y[n]+4*I1+2*I2)\n",
    "print('Integral value from simpson one third rule= %0.4f'%I)\n",
    "actualvalue=integrate(exp(1/t),(t,a,b))\n",
    "print('Actual value of the integral =%0.4f'%actualvalue)"
   ]
  },
  {
   "cell_type": "code",
   "execution_count": 3,
   "id": "382d4e17-f0d7-4087-919f-616a0a6f86e9",
   "metadata": {},
   "outputs": [
    {
     "name": "stdin",
     "output_type": "stream",
     "text": [
      "Enter the value of lower limit:  2\n",
      "Enter the value of upper limit:  8\n",
      "Enter the number of division:  6\n"
     ]
    },
    {
     "name": "stdout",
     "output_type": "stream",
     "text": [
      "x0=2.0000 \t\t y0=3.3219\n",
      "x1=3.0000 \t\t y1=2.0959\n",
      "x2=4.0000 \t\t y2=1.6610\n",
      "x3=5.0000 \t\t y3=1.4307\n",
      "x4=6.0000 \t\t y4=1.2851\n",
      "x5=7.0000 \t\t y5=1.1833\n",
      "x6=8.0000 \t\t y6=1.1073\n",
      "Integral value from simpson three eighth rule= 9.7374\n",
      "Actual value of the integral =9.6906\n"
     ]
    }
   ],
   "source": [
    "#Simpson (3/8)th rule\n",
    "from math import*\n",
    "from sympy import*\n",
    "t=Symbol('t')\n",
    "f=1/log(t,10)\n",
    "a=float(input('Enter the value of lower limit: '))\n",
    "b=float(input('Enter the value of upper limit: '))\n",
    "n=int(input('Enter the number of division: '))\n",
    "x=zeros(n+1)\n",
    "y=zeros(n+1)\n",
    "h=(b-a)/n\n",
    "x[0]=a\n",
    "y[0]=f.subs(t,x[0])\n",
    "for i in range (0,n):\n",
    "    x[i+1]=x[i]+h\n",
    "    y[i+1]=f.subs(t,x[i+1])\n",
    "for i in range(0,n+1):\n",
    "    print(f'x{i}=%0.4f'%x[i],f'\\t\\t y{i}=%0.4f'%y[i])\n",
    "I1=0    \n",
    "I2=0 \n",
    "for i in range (1,n):\n",
    "    if i%3==0:\n",
    "        I2=I2+y[i]\n",
    "    else:\n",
    "        I1=I1+y[i]\n",
    "I=((3*h)/8)*(y[0]+y[n]+3*I1+2*I2)\n",
    "print('Integral value from simpson three eighth rule= %0.4f'%I)\n",
    "actualvalue=integrate((1/log(t,10)),(t,a,b))\n",
    "print('Actual value of the integral =%0.4f'%actualvalue)"
   ]
  },
  {
   "cell_type": "code",
   "execution_count": 4,
   "id": "cc2537b2-6f85-474b-a198-6da0e1816437",
   "metadata": {},
   "outputs": [
    {
     "name": "stdin",
     "output_type": "stream",
     "text": [
      "Enter the value of lower limit:  4\n",
      "Enter the value of upper limit:  52\n",
      "Enter the number of division:  6\n"
     ]
    },
    {
     "name": "stdout",
     "output_type": "stream",
     "text": [
      "x0=4.0000 \t\t y0=1.3863\n",
      "x1=12.0000 \t\t y1=2.4849\n",
      "x2=20.0000 \t\t y2=2.9957\n",
      "x3=28.0000 \t\t y3=3.3322\n",
      "x4=36.0000 \t\t y4=3.5835\n",
      "x5=44.0000 \t\t y5=3.7842\n",
      "x6=52.0000 \t\t y6=3.9512\n",
      "Integral value from trapezoidal rule=150.7946\n",
      "Actual value of the integral=151.9195\n"
     ]
    }
   ],
   "source": [
    "#Trapezoidal rule\n",
    "from sympy import*\n",
    "t=Symbol('t')\n",
    "f=log(t)\n",
    "a=float(input('Enter the value of lower limit: '))\n",
    "b=float(input('Enter the value of upper limit: '))\n",
    "n=int(input('Enter the number of division: '))\n",
    "x=zeros(n+1)\n",
    "y=zeros(n+1)\n",
    "h=(b-a)/n\n",
    "x[0]=a\n",
    "y[0]=f.subs(t,x[0])\n",
    "for i in range (0,n):\n",
    "    x[i+1]=x[i]+h\n",
    "    y[i+1]=f.subs(t,x[i+1])\n",
    "for i in range(0,n+1):\n",
    "    print(f'x{i}=%0.4f'%x[i],f'\\t\\t y{i}=%0.4f'%y[i])\n",
    "I1=0\n",
    "for i in range(1,n):\n",
    "    I1=I1+y[i]\n",
    "I=(h/2)*(y[0]+y[n]+2*I1)\n",
    "print('Integral value from trapezoidal rule=%0.4f'%I)\n",
    "actualvalue=integrate(log(t),(t,a,b))\n",
    "print('Actual value of the integral=%0.4f'%actualvalue)"
   ]
  },
  {
   "cell_type": "code",
   "execution_count": 5,
   "id": "e4abd628-835b-48ef-9946-41d766855125",
   "metadata": {},
   "outputs": [
    {
     "name": "stdin",
     "output_type": "stream",
     "text": [
      "Enter the value of lower limit:  4\n",
      "Enter the value of upper limit:  52\n",
      "Enter the number of division:  6\n"
     ]
    },
    {
     "name": "stdout",
     "output_type": "stream",
     "text": [
      "x0=4.0000 \t\t y0=1.3863\n",
      "x1=12.0000 \t\t y1=2.4849\n",
      "x2=20.0000 \t\t y2=2.9957\n",
      "x3=28.0000 \t\t y3=3.3322\n",
      "x4=36.0000 \t\t y4=3.5835\n",
      "x5=44.0000 \t\t y5=3.7842\n",
      "x6=52.0000 \t\t y6=3.9512\n",
      "Integral value from simpson one third rule= 151.7366\n",
      "Actual value of the integral =151.9195\n"
     ]
    }
   ],
   "source": [
    "#Simpson (1/3)rd rule\n",
    "from sympy import*\n",
    "t=Symbol('t')\n",
    "f=log(t)\n",
    "a=float(input('Enter the value of lower limit: '))\n",
    "b=float(input('Enter the value of upper limit: '))\n",
    "n=int(input('Enter the number of division: '))\n",
    "x=zeros(n+1)\n",
    "y=zeros(n+1)\n",
    "h=(b-a)/n\n",
    "x[0]=a\n",
    "y[0]=f.subs(t,x[0])\n",
    "for i in range (0,n):\n",
    "    x[i+1]=x[i]+h\n",
    "    y[i+1]=f.subs(t,x[i+1])\n",
    "for i in range(0,n+1):\n",
    "    print(f'x{i}=%0.4f'%x[i],f'\\t\\t y{i}=%0.4f'%y[i])\n",
    "I1=0    \n",
    "I2=0 \n",
    "for i in range (1,n):\n",
    "    if i%2==0:\n",
    "        I2=I2+y[i]\n",
    "    else:\n",
    "        I1=I1+y[i]\n",
    "I=(h/3)*(y[0]+y[n]+4*I1+2*I2)\n",
    "print('Integral value from simpson one third rule= %0.4f'%I)\n",
    "actualvalue=integrate(log(t),(t,a,b))\n",
    "print('Actual value of the integral =%0.4f'%actualvalue)"
   ]
  },
  {
   "cell_type": "code",
   "execution_count": 7,
   "id": "dc319482-2919-4ca8-9e36-1f2fdb005881",
   "metadata": {},
   "outputs": [
    {
     "name": "stdin",
     "output_type": "stream",
     "text": [
      "Enter the value of lower limit:  4\n",
      "Enter the value of upper limit:  52\n",
      "Enter the number of division:  6\n"
     ]
    },
    {
     "name": "stdout",
     "output_type": "stream",
     "text": [
      "x0=4.0000 \t\t y0=1.3863\n",
      "x1=12.0000 \t\t y1=2.4849\n",
      "x2=20.0000 \t\t y2=2.9957\n",
      "x3=28.0000 \t\t y3=3.3322\n",
      "x4=36.0000 \t\t y4=3.5835\n",
      "x5=44.0000 \t\t y5=3.7842\n",
      "x6=52.0000 \t\t y6=3.9512\n",
      "Integral value from simpson three eighth rule= 151.6410\n",
      "Actual value of the integral =151.9195\n"
     ]
    }
   ],
   "source": [
    "#Simpson (3/8)th rule\n",
    "from math import*\n",
    "from sympy import*\n",
    "t=Symbol('t')\n",
    "f=log(t)\n",
    "a=float(input('Enter the value of lower limit: '))\n",
    "b=float(input('Enter the value of upper limit: '))\n",
    "n=int(input('Enter the number of division: '))\n",
    "x=zeros(n+1)\n",
    "y=zeros(n+1)\n",
    "h=(b-a)/n\n",
    "x[0]=a\n",
    "y[0]=f.subs(t,x[0])\n",
    "for i in range (0,n):\n",
    "    x[i+1]=x[i]+h\n",
    "    y[i+1]=f.subs(t,x[i+1])\n",
    "for i in range(0,n+1):\n",
    "    print(f'x{i}=%0.4f'%x[i],f'\\t\\t y{i}=%0.4f'%y[i])\n",
    "I1=0    \n",
    "I2=0 \n",
    "for i in range (1,n):\n",
    "    if i%3==0:\n",
    "        I2=I2+y[i]\n",
    "    else:\n",
    "        I1=I1+y[i]\n",
    "I=((3*h)/8)*(y[0]+y[n]+3*I1+2*I2)\n",
    "print('Integral value from simpson three eighth rule= %0.4f'%I)\n",
    "actualvalue=integrate(log(t),(t,a,b))\n",
    "print('Actual value of the integral =%0.4f'%actualvalue)"
   ]
  },
  {
   "cell_type": "code",
   "execution_count": 1,
   "id": "356ddf5e-ad0f-45bf-b6a2-44e48e3e06e1",
   "metadata": {},
   "outputs": [
    {
     "name": "stdin",
     "output_type": "stream",
     "text": [
      "Enter the initial value for x:  0\n",
      "Enter the initial value for y:  1\n",
      "Enter the number of terms required in the series:  5\n"
     ]
    },
    {
     "name": "stdout",
     "output_type": "stream",
     "text": [
      "y1=1.0000\n",
      "y2=2.0000\n",
      "y3=8.0000\n",
      "y4=28.0000\n"
     ]
    },
    {
     "data": {
      "text/latex": [
       "$\\displaystyle 1.16666666666667 x^{4} + 1.33333333333333 x^{3} + 1.0 x^{2} + 1.0 x + 1.0$"
      ],
      "text/plain": [
       "1.16666666666667*x**4 + 1.33333333333333*x**3 + 1.0*x**2 + 1.0*x + 1.0"
      ]
     },
     "metadata": {},
     "output_type": "display_data"
    },
    {
     "name": "stdin",
     "output_type": "stream",
     "text": [
      "Enter the value of x at which we have to find y:  1.4\n"
     ]
    },
    {
     "name": "stdout",
     "output_type": "stream",
     "text": [
      "y(1.4)=12.5005\n"
     ]
    }
   ],
   "source": [
    "from sympy import*\n",
    "x,y=symbols('x,y')\n",
    "f=x**2+y**2\n",
    "x0=float(input('Enter the initial value for x: '))\n",
    "y0=float(input('Enter the initial value for y: '))\n",
    "n=int(input('Enter the number of terms required in the series: '))\n",
    "print('y1=%0.4f'%f.subs({x:x0, y:y0}))\n",
    "series=y0+(x-x0)*(f.subs({x:x0,y:y0}))\n",
    "dy=f\n",
    "for i in range (2,n):\n",
    "    dy=diff(dy,x)+diff(dy,y)*f\n",
    "    dy0=dy.subs({x:x0,y:y0})\n",
    "    print(f'y{i}=%0.4f'%dy0)\n",
    "    series=series+((((x-x0)**i)*dy0)/factorial(i))\n",
    "display(series)\n",
    "xvalue=float(input('Enter the value of x at which we have to find y: '))\n",
    "print(f'y({xvalue})=%0.4f'%series.subs({x:xvalue, y:y0}))"
   ]
  },
  {
   "cell_type": "code",
   "execution_count": 5,
   "id": "1667f1c9-ca1f-4dd5-97c7-7f18f1cebdf2",
   "metadata": {},
   "outputs": [
    {
     "name": "stdin",
     "output_type": "stream",
     "text": [
      "Enter the initial value for x:  0\n",
      "Enter the initial value for y:  1\n",
      "Enter the the step length h:  0.2\n",
      "Enter the number of iterations required in Modified Eulers formula:  2\n"
     ]
    },
    {
     "name": "stdout",
     "output_type": "stream",
     "text": [
      "\n",
      "From Eulers formula: y= 1.2000\n",
      "\n",
      "From Modified Eulers method\n",
      "1-iteration : y = 1.2295\n",
      "2-iteration : y = 1.2309\n"
     ]
    }
   ],
   "source": [
    "from sympy import*\n",
    "x,y=symbols('x,y')\n",
    "f=x+sqrt(y)\n",
    "x0=float(input('Enter the initial value for x: '))\n",
    "y0=float(input('Enter the initial value for y: '))\n",
    "h=float(input('Enter the the step length h: '))\n",
    "n=int(input('Enter the number of iterations required in Modified Eulers formula: '))\n",
    "yE=y0+h*f.subs({x:x0,y:y0})\n",
    "x1=x0+h\n",
    "yME=yE\n",
    "print('\\nFrom Eulers formula: y= %0.4f'%yE)\n",
    "print('\\nFrom Modified Eulers method')\n",
    "for j in range (1,n+1):\n",
    "    yME=y0+(h/2)*(f.subs({x:x0,y:y0})+f.subs({x:x1 , y:yME}))\n",
    "    print(f'{j}-iteration : y = %0.4f'%yME)"
   ]
  },
  {
   "cell_type": "code",
   "execution_count": 7,
   "id": "69f01be7-71cd-4242-9c27-d6b900de24d8",
   "metadata": {},
   "outputs": [
    {
     "name": "stdin",
     "output_type": "stream",
     "text": [
      "Enter the initial value for x:  0\n",
      "Enter the initial value for y:  1\n",
      "Enter the the step length h:  0.2\n",
      "Enter the number of iterations required in Modified Eulers formula:  2\n",
      "Enter the total number of values of x at which y should be determined:  2\n"
     ]
    },
    {
     "name": "stdout",
     "output_type": "stream",
     "text": [
      "\n",
      "From Eulers formula: y= 1.2000\n",
      "\n",
      "From Modified Eulers method\n",
      "1-iteration : y = 1.2295\n",
      "2-iteration : y = 1.2309\n",
      "\n",
      "From Eulers formula: y= 1.4928\n",
      "\n",
      "From Modified Eulers method\n",
      "1-iteration : y = 1.5240\n",
      "2-iteration : y = 1.5253\n"
     ]
    }
   ],
   "source": [
    "from sympy import*\n",
    "x,y=symbols('x,y')\n",
    "f=x+sqrt(y)\n",
    "x0=float(input('Enter the initial value for x: '))\n",
    "y0=float(input('Enter the initial value for y: '))\n",
    "h=float(input('Enter the the step length h: '))\n",
    "n=int(input('Enter the number of iterations required in Modified Eulers formula: '))\n",
    "m=int(input('Enter the total number of values of x at which y should be determined: '))\n",
    "for i in range (1,m+1):\n",
    "    yE=y0+h*f.subs({x:x0,y:y0})\n",
    "    x1=x0+h\n",
    "    yME=yE\n",
    "    print('\\nFrom Eulers formula: y= %0.4f'%yE)\n",
    "    print('\\nFrom Modified Eulers method')\n",
    "    for j in range (1,n+1):\n",
    "        yME=y0+(h/2)*(f.subs({x:x0,y:y0})+f.subs({x:x1 , y:yME}))\n",
    "        print(f'{j}-iteration : y = %0.4f'%yME)\n",
    "    x0=x1\n",
    "    y0=yME"
   ]
  },
  {
   "cell_type": "code",
   "execution_count": 2,
   "id": "df7c4f6d-9901-405d-bf9d-5d39179011e4",
   "metadata": {},
   "outputs": [
    {
     "name": "stdin",
     "output_type": "stream",
     "text": [
      "Enter the initial value of x:  0\n",
      "Enter the initial value of y:  1\n",
      "Enter the value for the step length h=  0.2\n"
     ]
    },
    {
     "name": "stdout",
     "output_type": "stream",
     "text": [
      "\n",
      "k1=0.2000 \tk2=0.1967 \tk3=0.1967 \tk4=0.1891\n",
      "y(0.2)=1.1960\n"
     ]
    }
   ],
   "source": [
    "#runge kutta method\n",
    "from sympy import*\n",
    "x,y=symbols('x,y')\n",
    "f=(y**2-x**2)/(y**2+x**2)\n",
    "x0=float(input('Enter the initial value of x: '))\n",
    "y0=float(input('Enter the initial value of y: '))\n",
    "h=float(input('Enter the value for the step length h= '))\n",
    "\n",
    "k1=h*f.subs({x:x0,y:y0})\n",
    "k2=h*f.subs({x:x0+(h/2) , y: y0+(k1/2)})\n",
    "\n",
    "k3=h*f.subs({x:x0+(h/2),y:y0+(k2/2)})\n",
    "k4=h*f.subs({x:x0+h,y:y0+k3})\n",
    "solution=y0+(1/6)*(k1+(2*k2)+(2*k3)+k4)\n",
    "print('\\nk1=%0.4f'%k1,'\\tk2=%0.4f'%k2,'\\tk3=%0.4f'%k3,'\\tk4=%0.4f'%k4)\n",
    "print(f'y({x0+h})=%0.4f'%solution)"
   ]
  },
  {
   "cell_type": "code",
   "execution_count": 3,
   "id": "d51366c1-489e-45ad-9194-0898e564c024",
   "metadata": {},
   "outputs": [
    {
     "name": "stdin",
     "output_type": "stream",
     "text": [
      "Enter the value for the step length h=  0.2\n"
     ]
    },
    {
     "name": "stdout",
     "output_type": "stream",
     "text": [
      "Enter the values for x and y\n"
     ]
    },
    {
     "name": "stdin",
     "output_type": "stream",
     "text": [
      "x0= 0\n",
      "y0:  0\n",
      "y1:  0.02\n",
      "y2:  0.0795\n",
      "y3:  0.1762\n"
     ]
    },
    {
     "name": "stdout",
     "output_type": "stream",
     "text": [
      "\n",
      "from Milnes Predictor formula y(0.8)=0.3049\n",
      "\n",
      "From Milnes Corecctor Formula\n",
      "1-Iteration:y(0.8)=0.3046\n",
      "2-Iteration:y(0.8)=0.3046\n"
     ]
    }
   ],
   "source": [
    "#Milne's Predictor and Corrector Formula\n",
    "from sympy import*\n",
    "x,y=symbols('x,y')\n",
    "f=x-(y**2)\n",
    "h=float(input('Enter the value for the step length h= '))\n",
    "print('Enter the values for x and y')\n",
    "x0=float(input('x0='))\n",
    "x1=x0+h\n",
    "x2=x1+h\n",
    "x3=x2+h\n",
    "x4=x3+h\n",
    "y0=float(input('y0: '))\n",
    "y1=float(input('y1: '))\n",
    "y2=float(input('y2: '))\n",
    "y3=float(input('y3: '))\n",
    "f1=f.subs({x:x1,y:y1})\n",
    "f2=f.subs({x:x2,y:y2})\n",
    "f3=f.subs({x:x3,y:y3})\n",
    "y4p=y0+((4*h)/3)*(2*f1-f2+2*f3)\n",
    "print(f'\\nfrom Milnes Predictor formula y({x4})=%0.4f'%y4p)\n",
    "f4=f.subs({x:x4,y:y4p})\n",
    "yc=0\n",
    "dif=1\n",
    "i=1\n",
    "print('\\nFrom Milnes Corecctor Formula')\n",
    "while dif>0.0009:\n",
    "    y4c=y2+(h/3)*(f2+4*f3+f4)\n",
    "    dif=abs(y4c-yc)\n",
    "    yc=y4c\n",
    "    print(f'{i}-Iteration:y({x4})=%0.4f'%y4c)\n",
    "    f4=f.subs({x:x4,y:y4c})\n",
    "    i+=1"
   ]
  },
  {
   "cell_type": "code",
   "execution_count": 4,
   "id": "2bc03b53-f7c2-47f2-8ba5-33b889ad9025",
   "metadata": {},
   "outputs": [
    {
     "name": "stdin",
     "output_type": "stream",
     "text": [
      "Enter the initial value of x:  0\n",
      "Enter the initial value of y:  1\n",
      "Enter the value for the step length h=  0.2\n"
     ]
    },
    {
     "name": "stdout",
     "output_type": "stream",
     "text": [
      "\n",
      "k1=0.1000 \tk2=0.1650 \tk3=0.1683 \tk4=0.2368\n",
      "y(0.2)=1.1672\n"
     ]
    }
   ],
   "source": [
    "#runge kutta method\n",
    "from sympy import*\n",
    "x,y=symbols('x,y')\n",
    "f=(3*x)+(y/2)\n",
    "x0=float(input('Enter the initial value of x: '))\n",
    "y0=float(input('Enter the initial value of y: '))\n",
    "h=float(input('Enter the value for the step length h= '))\n",
    "\n",
    "k1=h*f.subs({x:x0,y:y0})\n",
    "k2=h*f.subs({x:x0+(h/2) , y: y0+(k1/2)})\n",
    "\n",
    "k3=h*f.subs({x:x0+(h/2),y:y0+(k2/2)})\n",
    "k4=h*f.subs({x:x0+h,y:y0+k3})\n",
    "solution=y0+(1/6)*(k1+(2*k2)+(2*k3)+k4)\n",
    "print('\\nk1=%0.4f'%k1,'\\tk2=%0.4f'%k2,'\\tk3=%0.4f'%k3,'\\tk4=%0.4f'%k4)\n",
    "print(f'y({x0+h})=%0.4f'%solution)"
   ]
  },
  {
   "cell_type": "code",
   "execution_count": 5,
   "id": "2001535e-0417-426d-bd4c-db0d6b36800e",
   "metadata": {},
   "outputs": [
    {
     "name": "stdin",
     "output_type": "stream",
     "text": [
      "Enter the initial value of x:  0\n",
      "Enter the initial value of y:  0\n",
      "Enter the value for the step length h=  0.1\n"
     ]
    },
    {
     "name": "stdout",
     "output_type": "stream",
     "text": [
      "\n",
      "k1=0.3000 \tk2=0.3454 \tk3=0.3499 \tk4=0.4015\n",
      "y(0.1)=0.3487\n"
     ]
    }
   ],
   "source": [
    "#runge kutta method\n",
    "from math import*\n",
    "from sympy import*\n",
    "x,y=symbols('x,y')\n",
    "f=(2*y)+(3*e**x)\n",
    "x0=float(input('Enter the initial value of x: '))\n",
    "y0=float(input('Enter the initial value of y: '))\n",
    "h=float(input('Enter the value for the step length h= '))\n",
    "\n",
    "k1=h*f.subs({x:x0,y:y0})\n",
    "k2=h*f.subs({x:x0+(h/2) , y: y0+(k1/2)})\n",
    "\n",
    "k3=h*f.subs({x:x0+(h/2),y:y0+(k2/2)})\n",
    "k4=h*f.subs({x:x0+h,y:y0+k3})\n",
    "solution=y0+(1/6)*(k1+(2*k2)+(2*k3)+k4)\n",
    "print('\\nk1=%0.4f'%k1,'\\tk2=%0.4f'%k2,'\\tk3=%0.4f'%k3,'\\tk4=%0.4f'%k4)\n",
    "print(f'y({x0+h})=%0.4f'%solution)"
   ]
  },
  {
   "cell_type": "code",
   "execution_count": 6,
   "id": "4dab3894-0761-4856-ac3c-c86e80ae1081",
   "metadata": {},
   "outputs": [
    {
     "name": "stdin",
     "output_type": "stream",
     "text": [
      "Enter the value for the step length h=  0.1\n"
     ]
    },
    {
     "name": "stdout",
     "output_type": "stream",
     "text": [
      "Enter the values for x and y\n"
     ]
    },
    {
     "name": "stdin",
     "output_type": "stream",
     "text": [
      "x0= 1\n",
      "y0:  2\n",
      "y1:  2.2156\n",
      "y2:  2.4649\n",
      "y3:  2.7514\n"
     ]
    },
    {
     "name": "stdout",
     "output_type": "stream",
     "text": [
      "\n",
      "from Milnes Predictor formula y(1.4000000000000004)=3.0793\n",
      "\n",
      "From Milnes Corecctor Formula\n",
      "1-Iteration:y(1.4000000000000004)=3.0794\n",
      "2-Iteration:y(1.4000000000000004)=3.0794\n"
     ]
    }
   ],
   "source": [
    "#Milne's Predictor and Corrector Formula\n",
    "from sympy import*\n",
    "x,y=symbols('x,y')\n",
    "f=(x**2)+(y/2)\n",
    "h=float(input('Enter the value for the step length h= '))\n",
    "print('Enter the values for x and y')\n",
    "x0=float(input('x0='))\n",
    "x1=x0+h\n",
    "x2=x1+h\n",
    "x3=x2+h\n",
    "x4=x3+h\n",
    "y0=float(input('y0: '))\n",
    "y1=float(input('y1: '))\n",
    "y2=float(input('y2: '))\n",
    "y3=float(input('y3: '))\n",
    "f1=f.subs({x:x1,y:y1})\n",
    "f2=f.subs({x:x2,y:y2})\n",
    "f3=f.subs({x:x3,y:y3})\n",
    "y4p=y0+((4*h)/3)*(2*f1-f2+2*f3)\n",
    "print(f'\\nfrom Milnes Predictor formula y({x4})=%0.4f'%y4p)\n",
    "f4=f.subs({x:x4,y:y4p})\n",
    "yc=0\n",
    "dif=1\n",
    "i=1\n",
    "print('\\nFrom Milnes Corecctor Formula')\n",
    "while dif>0.0009:\n",
    "    y4c=y2+(h/3)*(f2+4*f3+f4)\n",
    "    dif=abs(y4c-yc)\n",
    "    yc=y4c\n",
    "    print(f'{i}-Iteration:y({x4})=%0.4f'%y4c)\n",
    "    f4=f.subs({x:x4,y:y4c})\n",
    "    i+=1"
   ]
  },
  {
   "cell_type": "code",
   "execution_count": 7,
   "id": "4532e686-4ce6-48f1-9aa0-a68f76a56020",
   "metadata": {},
   "outputs": [
    {
     "name": "stdin",
     "output_type": "stream",
     "text": [
      "Enter the value for the step length h=  0.1\n"
     ]
    },
    {
     "name": "stdout",
     "output_type": "stream",
     "text": [
      "Enter the values for x and y\n"
     ]
    },
    {
     "name": "stdin",
     "output_type": "stream",
     "text": [
      "x0= 0\n",
      "y0:  2.4\n",
      "y1:  2.473\n",
      "y2:  3.129\n",
      "y3:  4.059\n"
     ]
    },
    {
     "name": "stdout",
     "output_type": "stream",
     "text": [
      "\n",
      "from Milnes Predictor formula y(0.4)=5.7607\n",
      "\n",
      "From Milnes Corecctor Formula\n",
      "1-Iteration:y(0.4)=5.4178\n",
      "2-Iteration:y(0.4)=5.3837\n",
      "3-Iteration:y(0.4)=5.3803\n",
      "4-Iteration:y(0.4)=5.3800\n"
     ]
    }
   ],
   "source": [
    "#Milne's Predictor and Corrector Formula\n",
    "from sympy import*\n",
    "x,y=symbols('x,y')\n",
    "f=2*(e**x)*y\n",
    "h=float(input('Enter the value for the step length h= '))\n",
    "print('Enter the values for x and y')\n",
    "x0=float(input('x0='))\n",
    "x1=x0+h\n",
    "x2=x1+h\n",
    "x3=x2+h\n",
    "x4=x3+h\n",
    "y0=float(input('y0: '))\n",
    "y1=float(input('y1: '))\n",
    "y2=float(input('y2: '))\n",
    "y3=float(input('y3: '))\n",
    "f1=f.subs({x:x1,y:y1})\n",
    "f2=f.subs({x:x2,y:y2})\n",
    "f3=f.subs({x:x3,y:y3})\n",
    "y4p=y0+((4*h)/3)*(2*f1-f2+2*f3)\n",
    "print(f'\\nfrom Milnes Predictor formula y({x4})=%0.4f'%y4p)\n",
    "f4=f.subs({x:x4,y:y4p})\n",
    "yc=0\n",
    "dif=1\n",
    "i=1\n",
    "print('\\nFrom Milnes Corecctor Formula')\n",
    "while dif>0.0009:\n",
    "    y4c=y2+(h/3)*(f2+4*f3+f4)\n",
    "    dif=abs(y4c-yc)\n",
    "    yc=y4c\n",
    "    print(f'{i}-Iteration:y({x4})=%0.4f'%y4c)\n",
    "    f4=f.subs({x:x4,y:y4c})\n",
    "    i+=1"
   ]
  },
  {
   "cell_type": "code",
   "execution_count": 1,
   "id": "a933e9a8-df27-4f65-9563-f7cd885b30c2",
   "metadata": {},
   "outputs": [
    {
     "data": {
      "text/latex": [
       "$\\displaystyle \\int\\limits_{1}^{4}\\int\\limits_{0}^{\\sqrt{4 - x}} x y\\, dy\\, dx = \\frac{9}{2}$"
      ],
      "text/plain": [
       "Eq(Integral(x*y, (y, 0, sqrt(4 - x)), (x, 1, 4)), 9/2)"
      ]
     },
     "metadata": {},
     "output_type": "display_data"
    }
   ],
   "source": [
    "#Evaluation of Double Integral\n",
    "from sympy import *\n",
    "x,y=symbols('x,y')\n",
    "f=x*y\n",
    "I=Integral(f,(y,0,sqrt(4-x)),(x,1,4))\n",
    "display(Eq(I,integrate(f,(y,0,sqrt(4-x)),(x,1,4))))\n"
   ]
  },
  {
   "cell_type": "code",
   "execution_count": 2,
   "id": "31f69faf-ae62-4660-b418-78536c8d6dbb",
   "metadata": {},
   "outputs": [
    {
     "data": {
      "text/latex": [
       "$\\displaystyle \\int\\limits_{- c}^{c}\\int\\limits_{- b}^{b}\\int\\limits_{- a}^{a} \\left(x^{2} + y^{2} + z^{2}\\right)\\, dx\\, dy\\, dz = \\frac{8 a b c \\left(a^{2} + b^{2} + c^{2}\\right)}{3}$"
      ],
      "text/plain": [
       "Eq(Integral(x**2 + y**2 + z**2, (x, -a, a), (y, -b, b), (z, -c, c)), 8*a*b*c*(a**2 + b**2 + c**2)/3)"
      ]
     },
     "metadata": {},
     "output_type": "display_data"
    }
   ],
   "source": [
    "#Evaluation of Triple Integral\n",
    "from sympy import *\n",
    "x,y,z,a,b,c=symbols('x,y,z,a,b,c')\n",
    "f=(x**2)+(y**2)+(z**2)\n",
    "\n",
    "\n",
    "I=Integral(f,(x,-a,a),(y,-b,b),(z,-c,c))\n",
    "\n",
    "display(Eq(I,simplify(integrate(f,(x,-a,a),(y,-b,b),(z,-c,c)))))\n",
    "\n"
   ]
  },
  {
   "cell_type": "code",
   "execution_count": 54,
   "id": "23433eb6-8776-4bb0-bf25-bc5d778dfb99",
   "metadata": {},
   "outputs": [
    {
     "data": {
      "text/latex": [
       "$\\displaystyle \\iint \\left(x^{2} + y^{2}\\right)\\, dx\\, dy = \\frac{x y \\left(x^{2} + y^{2}\\right)}{3}$"
      ],
      "text/plain": [
       "Eq(Integral(x**2 + y**2, x, y), x*y*(x**2 + y**2)/3)"
      ]
     },
     "metadata": {},
     "output_type": "display_data"
    },
    {
     "data": {
      "text/latex": [
       "$\\displaystyle \\iint \\left(x^{2} + y^{2}\\right)\\, dy\\, dx = \\frac{x y \\left(x^{2} + y^{2}\\right)}{3}$"
      ],
      "text/plain": [
       "Eq(Integral(x**2 + y**2, y, x), x*y*(x**2 + y**2)/3)"
      ]
     },
     "metadata": {},
     "output_type": "display_data"
    },
    {
     "name": "stdout",
     "output_type": "stream",
     "text": [
      "Changing the order doesn't affect the value\n"
     ]
    }
   ],
   "source": [
    "from sympy import *\n",
    "x,y,z,a,b,c=symbols('x,y,z,a,b,c')\n",
    "f=(x**2)+(y**2)\n",
    "\n",
    "I1=simplify(integrate(f,x,y))\n",
    "display(Eq(Integral(f,x,y),I1))\n",
    "\n",
    "I2=simplify(integrate(f,y,x))\n",
    "display(Eq(Integral(f,y,x),I2))\n",
    "\n",
    "if I1==I2:\n",
    "    print(\"Changing the order doesn't affect the value\")\n",
    "\n",
    "else:\n",
    "    print(\"It does\")"
   ]
  },
  {
   "cell_type": "code",
   "execution_count": 20,
   "id": "1d31edd0-984e-487c-8652-38c0cb5c6591",
   "metadata": {},
   "outputs": [
    {
     "data": {
      "text/latex": [
       "$\\displaystyle 4 \\int\\limits_{0}^{1}\\int\\limits_{0}^{2.0 \\sqrt{4 - x^{2}}} 1\\, dy\\, dx = 2.0 \\pi$"
      ],
      "text/plain": [
       "Eq(4*Integral(1, (y, 0, 2.0*sqrt(4 - x**2)), (x, 0, 1)), 2.0*pi)"
      ]
     },
     "metadata": {},
     "output_type": "display_data"
    }
   ],
   "source": [
    "from sympy import *\n",
    "x,y,z,a,b,c=symbols('x,y,z,a,b,c')\n",
    "f=(x**2)+(y**2)\n",
    "display(Eq(4*Integral(1,(y,0,(2/1)*sqrt(2**2-x**2)),(x,0,1)),4*integrate(1,(y,0,(1/2)*sqrt(2**2-x**2)),(x,0,2))))"
   ]
  },
  {
   "cell_type": "code",
   "execution_count": 39,
   "id": "6ff21943-0fcb-4bad-97ac-6fb4c84ed3ac",
   "metadata": {},
   "outputs": [
    {
     "data": {
      "text/latex": [
       "$\\displaystyle 2 \\int\\limits_{0}^{\\pi}\\int\\limits_{0}^{a \\left(\\cos{\\left(θ \\right)} + 1\\right)} r\\, dr\\, dθ = \\frac{3 \\pi a^{2}}{2}$"
      ],
      "text/plain": [
       "Eq(2*Integral(r, (r, 0, a*(cos(θ) + 1)), (θ, 0, pi)), 3*pi*a**2/2)"
      ]
     },
     "metadata": {},
     "output_type": "display_data"
    }
   ],
   "source": [
    "from sympy import *\n",
    "x,y,z,a,b,c,θ,r=symbols('x,y,z,a,b,c,θ,r')\n",
    "f=r\n",
    "\n",
    "A=2*Integral(f,(r,0,a*(1+cos(θ))),(θ,0,pi))\n",
    "A2=2*integrate(r,(r,0,a*(1+cos(θ))),(θ,0,pi))\n",
    "display(Eq(A,A2))\n",
    "\n",
    "\n"
   ]
  },
  {
   "cell_type": "code",
   "execution_count": 50,
   "id": "ed7ce2e2-1d59-48f7-9609-8c239faf0791",
   "metadata": {},
   "outputs": [
    {
     "data": {
      "text/latex": [
       "$\\displaystyle \\int\\limits_{0}^{a}\\int\\limits_{0}^{b \\left(1 - \\frac{x}{a}\\right)}\\int\\limits_{0}^{c \\left(1 - \\frac{y}{b} - \\frac{x}{a}\\right)} 1\\, dz\\, dy\\, dx = \\frac{a b c}{6}$"
      ],
      "text/plain": [
       "Eq(Integral(1, (z, 0, c*(1 - y/b - x/a)), (y, 0, b*(1 - x/a)), (x, 0, a)), a*b*c/6)"
      ]
     },
     "metadata": {},
     "output_type": "display_data"
    }
   ],
   "source": [
    "from sympy import *\n",
    "x,y,z,a,b,c,θ,r=symbols('x,y,z,a,b,c,θ,r')\n",
    "A=Integral(1,(z,0,c*(1-y/b-x/a)),(y,0,b*(1-x/a)),(x,0,a))\n",
    "AA=integrate(1,(z,0,c*(1-y/b-x/a)),(y,0,b*(1-x/a)),(x,0,a))\n",
    "display((Eq(A,AA)))"
   ]
  },
  {
   "cell_type": "code",
   "execution_count": 51,
   "id": "a023de94-a57a-440d-a42f-6ef0d6a186a4",
   "metadata": {},
   "outputs": [
    {
     "data": {
      "text/latex": [
       "$\\displaystyle \\int\\limits_{1}^{4}\\int\\limits_{0}^{\\sqrt{4 - x}} x y\\, dy\\, dx = \\frac{9}{2}$"
      ],
      "text/plain": [
       "Eq(Integral(x*y, (y, 0, sqrt(4 - x)), (x, 1, 4)), 9/2)"
      ]
     },
     "metadata": {},
     "output_type": "display_data"
    }
   ],
   "source": [
    "#Evaluation of Double Integral\n",
    "from sympy import *\n",
    "x,y=symbols('x,y')\n",
    "f=x*y\n",
    "I=Integral(f,(y,0,sqrt(4-x)),(x,1,4))\n",
    "display(Eq(I,integrate(f,(y,0,sqrt(4-x)),(x,1,4))))\n"
   ]
  },
  {
   "cell_type": "code",
   "execution_count": 55,
   "id": "9657a2cf-e09b-4939-8d5a-059cd6fb34ec",
   "metadata": {},
   "outputs": [
    {
     "name": "stdin",
     "output_type": "stream",
     "text": [
      "Enter the value of n to find (n): 4\n"
     ]
    },
    {
     "data": {
      "text/latex": [
       "$\\displaystyle \\int\\limits_{0}^{\\infty} x^{3.0} e^{- x}\\, dx = 6.0$"
      ],
      "text/plain": [
       "Eq(Integral(x**3.0*exp(-x), (x, 0, oo)), 6.0)"
      ]
     },
     "metadata": {},
     "output_type": "display_data"
    },
    {
     "name": "stdout",
     "output_type": "stream",
     "text": [
      "r(4.0)=6.0000 \n"
     ]
    }
   ],
   "source": [
    "from numpy import *  \n",
    "from sympy import * \n",
    "x=symbols('x')\n",
    "n=float(input('Enter the value of n to find (n):'))\n",
    "f=exp(-x)*(x** (n-1))\n",
    "I=integrate(f, (x,0,inf))\n",
    "display(Eq(Integral (f, (x,0,inf)),I))\n",
    "gn=gamma (n)\n",
    "print(f'r({n})=%0.4f '%gn)"
   ]
  },
  {
   "cell_type": "code",
   "execution_count": 65,
   "id": "c7936b30-f21c-4b68-9d7b-ff0a7d5232ab",
   "metadata": {},
   "outputs": [
    {
     "data": {
      "text/latex": [
       "$\\displaystyle \\int\\limits_{0}^{1}\\int\\limits_{0}^{\\sqrt{1 - x^{2}}} \\frac{1}{\\sqrt{x^{2} + y^{2} + 1}}\\, dy\\, dx = \\int\\limits_{0}^{1} \\operatorname{asinh}{\\left(\\frac{\\sqrt{1 - x^{2}}}{\\sqrt{x^{2} + 1}} \\right)}\\, dx$"
      ],
      "text/plain": [
       "Eq(Integral(1/sqrt(x**2 + y**2 + 1), (y, 0, sqrt(1 - x**2)), (x, 0, 1)), Integral(asinh(sqrt(1 - x**2)/sqrt(x**2 + 1)), (x, 0, 1)))"
      ]
     },
     "metadata": {},
     "output_type": "display_data"
    }
   ],
   "source": [
    "#Evaluation of Double Integral\n",
    "from sympy import *\n",
    "x,y=symbols('x,y')\n",
    "f=1/(sqrt(1+x**2+y**2))\n",
    "I=Integral(f,(y,0,sqrt(1-x**2)),(x,0,1))\n",
    "display(Eq(I,simplify(integrate(f,(y,0,sqrt(1-x**2)),(x,0,1)))))\n"
   ]
  },
  {
   "cell_type": "code",
   "execution_count": 66,
   "id": "e9908bd6-c056-4beb-8a30-387d9e5b978c",
   "metadata": {},
   "outputs": [
    {
     "data": {
      "text/latex": [
       "$\\displaystyle \\int\\limits_{0}^{a}\\int\\limits_{0}^{b} \\left(x^{2} + y^{3}\\right)\\, dx\\, dy = \\frac{a^{4} b}{4} + \\frac{a b^{3}}{3}$"
      ],
      "text/plain": [
       "Eq(Integral(x**2 + y**3, (x, 0, b), (y, 0, a)), a**4*b/4 + a*b**3/3)"
      ]
     },
     "metadata": {},
     "output_type": "display_data"
    }
   ],
   "source": [
    "#Evaluation of Double Integral\n",
    "from sympy import *\n",
    "x,y=symbols('x,y')\n",
    "f=x**2+y**3\n",
    "I=Integral(f,(x,0,b),(y,0,a))\n",
    "display(Eq(I,simplify(integrate(f,(x,0,b),(y,0,a)))))"
   ]
  },
  {
   "cell_type": "code",
   "execution_count": 74,
   "id": "f2ad5af5-df1b-439d-a719-dfcbbbd04a77",
   "metadata": {},
   "outputs": [
    {
     "data": {
      "text/latex": [
       "$\\displaystyle \\int\\limits_{0}^{1}\\int\\limits_{x^{2}}^{x} x y^{2}\\, dy\\, dx = \\frac{x^{3} \\cdot \\left(1 - x^{3}\\right)}{6}$"
      ],
      "text/plain": [
       "Eq(Integral(x*y**2, (y, x**2, x), (x, 0, 1)), x**3*(1 - x**3)/6)"
      ]
     },
     "metadata": {},
     "output_type": "display_data"
    }
   ],
   "source": [
    "from sympy import *\n",
    "x,y=symbols('x,y')\n",
    "f=x*y**2\n",
    "I=Integral(f,(y,x**2,x),(x,0,1))\n",
    "display(Eq(I,simplify(integrate(f,(x,0,1),(y,x**2,x)))))"
   ]
  },
  {
   "cell_type": "code",
   "execution_count": 79,
   "id": "ca49af86-8960-4aa2-8c37-b10caaff61f1",
   "metadata": {},
   "outputs": [
    {
     "data": {
      "text/latex": [
       "$\\displaystyle \\int\\limits_{0}^{4}\\int\\limits_{0}^{\\sqrt{16 - y^{2}}} 1\\, dx\\, dy = 4 \\pi$"
      ],
      "text/plain": [
       "Eq(Integral(1, (x, 0, sqrt(16 - y**2)), (y, 0, 4)), 4*pi)"
      ]
     },
     "metadata": {},
     "output_type": "display_data"
    }
   ],
   "source": [
    "from sympy import *\n",
    "\n",
    "# Define symbols\n",
    "x, y = symbols('x y')\n",
    "\n",
    "# Define the equation of the circle\n",
    "circle_eq = x**2 + y**2 - 16\n",
    "\n",
    "# Define the limits for integration (first quadrant)\n",
    "x_limits = (0, sqrt(16 - y**2))\n",
    "y_limits = (0, 4)\n",
    "\n",
    "# Define the integral expression\n",
    "I = Integral(1, (x, 0, sqrt(16 - y**2)), (y, 0, 4))\n",
    "\n",
    "# Evaluate the integral\n",
    "integral_value = I.doit()\n",
    "\n",
    "# Display the integral equation\n",
    "display(Eq(I, integral_value))\n"
   ]
  },
  {
   "cell_type": "code",
   "execution_count": 89,
   "id": "ce5b97a9-d256-49fa-a329-4a55f8849380",
   "metadata": {},
   "outputs": [
    {
     "ename": "TypeError",
     "evalue": "cannot determine truth value of Relational",
     "output_type": "error",
     "traceback": [
      "\u001b[1;31m---------------------------------------------------------------------------\u001b[0m",
      "\u001b[1;31mTypeError\u001b[0m                                 Traceback (most recent call last)",
      "Cell \u001b[1;32mIn[89], line 21\u001b[0m\n\u001b[0;32m     18\u001b[0m y_values \u001b[38;5;241m=\u001b[39m [point[\u001b[38;5;241m1\u001b[39m] \u001b[38;5;28;01mfor\u001b[39;00m point \u001b[38;5;129;01min\u001b[39;00m intersection_values]\n\u001b[0;32m     20\u001b[0m \u001b[38;5;66;03m# Determine the limits for integration\u001b[39;00m\n\u001b[1;32m---> 21\u001b[0m x_limits \u001b[38;5;241m=\u001b[39m (\u001b[38;5;28mmin\u001b[39m(x_values), \u001b[38;5;28mmax\u001b[39m(x_values))\n\u001b[0;32m     22\u001b[0m y_limits \u001b[38;5;241m=\u001b[39m (\u001b[38;5;28mmin\u001b[39m(y_values), \u001b[38;5;28mmax\u001b[39m(y_values))\n\u001b[0;32m     24\u001b[0m \u001b[38;5;66;03m# Define the integral expression\u001b[39;00m\n",
      "File \u001b[1;32mC:\\ProgramData\\anaconda3\\Lib\\site-packages\\sympy\\core\\relational.py:510\u001b[0m, in \u001b[0;36mRelational.__bool__\u001b[1;34m(self)\u001b[0m\n\u001b[0;32m    509\u001b[0m \u001b[38;5;28;01mdef\u001b[39;00m \u001b[38;5;21m__bool__\u001b[39m(\u001b[38;5;28mself\u001b[39m):\n\u001b[1;32m--> 510\u001b[0m     \u001b[38;5;28;01mraise\u001b[39;00m \u001b[38;5;167;01mTypeError\u001b[39;00m(\u001b[38;5;124m\"\u001b[39m\u001b[38;5;124mcannot determine truth value of Relational\u001b[39m\u001b[38;5;124m\"\u001b[39m)\n",
      "\u001b[1;31mTypeError\u001b[0m: cannot determine truth value of Relational"
     ]
    }
   ],
   "source": [
    "from sympy import *\n",
    "\n",
    "# Define symbols\n",
    "x, y, a = symbols('x y a')\n",
    "\n",
    "# Define the equations of the parabolas\n",
    "parabola1_eq = y**2 - 4*a*x\n",
    "parabola2_eq = x**2 - 4*a*y\n",
    "\n",
    "# Find the points of intersection\n",
    "intersection_points = solve((parabola1_eq, parabola2_eq), (x, y))\n",
    "\n",
    "# Extract numerical values of intersection points\n",
    "intersection_values = [(point[0].evalf(), point[1].evalf()) for point in intersection_points]\n",
    "\n",
    "# Extract x and y values of intersection points\n",
    "x_values = [point[0] for point in intersection_values]\n",
    "y_values = [point[1] for point in intersection_values]\n",
    "\n",
    "# Determine the limits for integration\n",
    "x_limits = (min(x_values), max(x_values))\n",
    "y_limits = (min(y_values), max(y_values))\n",
    "\n",
    "# Define the integral expression\n",
    "area_integral = Integral((y**2 - x**2), (y, y_limits[0], y_limits[1]), (x, x_limits[0], x_limits[1]))\n",
    "\n",
    "# Evaluate the integral\n",
    "area_value = area_integral.doit()\n",
    "\n",
    "# Display the integral equation\n",
    "display(Eq(area_integral, area_value))\n"
   ]
  },
  {
   "cell_type": "code",
   "execution_count": 10,
   "id": "d13fc0b0-da82-41ae-94c0-0553bcae248b",
   "metadata": {},
   "outputs": [
    {
     "data": {
      "text/latex": [
       "$\\displaystyle \\int\\limits_{0}^{4}\\int\\limits_{0}^{\\sqrt{16 - y^{2}}} x y^{2}\\, dx\\, dy = \\frac{1024}{15}$"
      ],
      "text/plain": [
       "Eq(Integral(x*y**2, (x, 0, sqrt(16 - y**2)), (y, 0, 4)), 1024/15)"
      ]
     },
     "metadata": {},
     "output_type": "display_data"
    }
   ],
   "source": [
    "from sympy import *\n",
    "x,y=symbols('x,y')\n",
    "f=x*y**2\n",
    "I=Integral(f,(x,0,sqrt(16-y**2)),(y,0,4))\n",
    "display(Eq(I,simplify(integrate(f,(x,0,sqrt(16-y**2)),(y,0,4)))))"
   ]
  },
  {
   "cell_type": "code",
   "execution_count": 58,
   "id": "e0630973-a1a2-42c1-bfcf-f8957665bbb8",
   "metadata": {},
   "outputs": [
    {
     "name": "stdin",
     "output_type": "stream",
     "text": [
      "Enter the value of n to find г(n): 5\n"
     ]
    },
    {
     "name": "stdout",
     "output_type": "stream",
     "text": [
      "r(5.0)=24.0000\n"
     ]
    },
    {
     "name": "stdin",
     "output_type": "stream",
     "text": [
      "Enter the value of n to find ẞ(m, n): 4\n",
      "Enter the value of n to find ẞ(m, n): 3\n"
     ]
    },
    {
     "name": "stdout",
     "output_type": "stream",
     "text": [
      "ẞ(4.0, 3.0)=0.0167 \n"
     ]
    }
   ],
   "source": [
    "from sympy import *\n",
    "n=float(input('Enter the value of n to find г(n):'))\n",
    "gn=gamma(n)\n",
    "print(f'r({n})=%0.4f'%gn)\n",
    "m=float(input('Enter the value of n to find ẞ(m, n):'))\n",
    "n=float(input(\"Enter the value of n to find ẞ(m, n):\")) \n",
    "bmn=beta(m, n)\n",
    "print(f'ẞ({m}, {n})=%0.4f '%bmn)"
   ]
  },
  {
   "cell_type": "code",
   "execution_count": 9,
   "id": "9a721540-e0ac-4f4c-a099-24aa56b51db8",
   "metadata": {},
   "outputs": [
    {
     "name": "stdin",
     "output_type": "stream",
     "text": [
      "Enter the value of n to find г(n): 5\n"
     ]
    },
    {
     "name": "stdout",
     "output_type": "stream",
     "text": [
      "r(5.0)=24.0000\n"
     ]
    },
    {
     "name": "stdin",
     "output_type": "stream",
     "text": [
      "Enter the value of n to find ẞ(m, n): 4\n",
      "Enter the value of n to find ẞ(m, n): 3\n"
     ]
    },
    {
     "name": "stdout",
     "output_type": "stream",
     "text": [
      "ẞ(4.0, 3.0)=0.0167 \n"
     ]
    }
   ],
   "source": [
    "from sympy import *\n",
    "n=float(input('Enter the value of n to find г(n):'))\n",
    "gn=gamma(n)\n",
    "print(f'r({n})=%0.4f'%gn)\n",
    "m=float(input('Enter the value of n to find ẞ(m, n):'))\n",
    "n=float(input(\"Enter the value of n to find ẞ(m, n):\")) \n",
    "bmn=beta(m, n)\n",
    "print(f'ẞ({m}, {n})=%0.4f '%bmn)"
   ]
  },
  {
   "cell_type": "code",
   "execution_count": 62,
   "id": "beff3ce9-2fca-4b4d-8917-309bf4422257",
   "metadata": {},
   "outputs": [
    {
     "name": "stdin",
     "output_type": "stream",
     "text": [
      "Enter the value of n to find (n): 2\n",
      "Enter the value of n to find ẞ(m, n): 5\n"
     ]
    },
    {
     "name": "stdout",
     "output_type": "stream",
     "text": [
      "r(5.0) = 24.0000   \n",
      "г(2.0)=1.0000  \n",
      " ̃(5.0+2.0)=720.0000\n",
      "B(5.0, 2.0)=0.0333\n",
      "R.H.S= 0.0333\n",
      "ẞ(m,n)=(г(m)*(n))/г(m+n)\n"
     ]
    }
   ],
   "source": [
    "from sympy import *\n",
    "n=float(input('Enter the value of n to find (n):'))\n",
    "m=float(input('Enter the value of n to find ẞ(m, n):'))\n",
    "gn=gamma (n)\n",
    "gm=gamma (m)\n",
    "gmn=gamma (m+n)\n",
    "print(f'Γ({m}) = %0.4f '%gm, f' \\nг({n})=%0.4f'%gn, f' \\n ̃({m}+{n})=%0.4f'%gmn)\n",
    "bmn=beta(m, n)\n",
    "print(f'B({m}, {n})=%0.4f'%bmn)\n",
    "rhs=(gn*gm)/gmn\n",
    "print('R.H.S= %0.4f'%rhs)\n",
    "if bmn==rhs:\n",
    "    print('ẞ(m,n)=(г(m)*(n))/г(m+n)')\n",
    "else:\n",
    "\n",
    "    print('ẞ(m,n)!=(r(m)*r(n))/(m+n)')"
   ]
  },
  {
   "cell_type": "code",
   "execution_count": 14,
   "id": "5690ba62-eb1d-45cf-a241-a0a80ab57a76",
   "metadata": {},
   "outputs": [
    {
     "name": "stdout",
     "output_type": "stream",
     "text": [
      "ẞ(4.5, 1.5) = 0.0859029241215959\n"
     ]
    }
   ],
   "source": [
    "from sympy import *\n",
    "\n",
    "n = 1.5\n",
    "m = 4.5\n",
    "\n",
    "bmn = beta(m, n)\n",
    "print(f'ẞ({m}, {n}) = {bmn.evalf()}')\n"
   ]
  },
  {
   "cell_type": "code",
   "execution_count": 15,
   "id": "d92188e4-3c07-4d24-8226-e62de4cba476",
   "metadata": {},
   "outputs": [
    {
     "name": "stdout",
     "output_type": "stream",
     "text": [
      "ẞ(4, 5) = 0.00357142857142857\n"
     ]
    }
   ],
   "source": [
    "from sympy import *\n",
    "\n",
    "m = 4\n",
    "n = 5\n",
    "\n",
    "bmn = beta(m, n)\n",
    "print(f'ẞ({m}, {n}) = {bmn.evalf()}')\n"
   ]
  },
  {
   "cell_type": "code",
   "execution_count": 16,
   "id": "cda5a6d6-6371-4408-aa0d-3e9e943cd31c",
   "metadata": {},
   "outputs": [
    {
     "name": "stdout",
     "output_type": "stream",
     "text": [
      "г(3.5) = 3.32335097044784\n"
     ]
    }
   ],
   "source": [
    "from sympy import *\n",
    "\n",
    "n = 3.5\n",
    "\n",
    "gn = gamma(n)\n",
    "print(f'г({n}) = {gn.evalf()}')\n"
   ]
  },
  {
   "cell_type": "code",
   "execution_count": 17,
   "id": "276abd38-dd3f-4a64-b4e2-ef5696580906",
   "metadata": {},
   "outputs": [
    {
     "name": "stdout",
     "output_type": "stream",
     "text": [
      "г(6) = 120.000000000000\n"
     ]
    }
   ],
   "source": [
    "from sympy import *\n",
    "\n",
    "n = 6\n",
    "\n",
    "gn = gamma(n)\n",
    "print(f'г({n}) = {gn.evalf()}')\n"
   ]
  },
  {
   "cell_type": "code",
   "execution_count": 7,
   "id": "267b5a0e-2611-4859-a972-197e98e21639",
   "metadata": {},
   "outputs": [
    {
     "name": "stdout",
     "output_type": "stream",
     "text": [
      "0.886226925452758 =Γ(m)\n",
      "1.77245385090552 =Γ(n)\n",
      "1.00000000000000 =Γ(m+n)\n",
      "ẞ(1.5, 0.5) = 1.57079632679490\n",
      " They are equal\n"
     ]
    }
   ],
   "source": [
    "#Verify that Beta(m,n) = Gamma(m)*gamma(n)/gamma(m+n) for m=1.5 and n=0.5\n",
    "from sympy import *\n",
    "\n",
    "m = 1.5\n",
    "n = 0.5\n",
    "\n",
    "# Calculate gamma(m), gamma(n), and gamma(m + n)\n",
    "gm = gamma(m)\n",
    "gn = gamma(n)\n",
    "gmn = gamma(m + n)\n",
    "print(gm,\"=Γ(m)\")\n",
    "print(gn,\"=Γ(n)\")\n",
    "print(gmn,'=Γ(m+n)')\n",
    "\n",
    "\n",
    "# Calculate Beta(m, n)\n",
    "bmn=beta(m, n)\n",
    "if round(bmn) == round(gm * gn / gmn):\n",
    "    print(f'ẞ({m}, {n}) = {bmn.evalf()}\\n They are equal')\n",
    "\n",
    "\n"
   ]
  },
  {
   "cell_type": "code",
   "execution_count": 99,
   "id": "85352ff7-846a-43c2-a322-f612801ef47a",
   "metadata": {},
   "outputs": [
    {
     "name": "stdout",
     "output_type": "stream",
     "text": [
      "\n",
      " Gradient of is\n"
     ]
    },
    {
     "data": {
      "text/latex": [
       "$\\displaystyle \\frac{\\partial}{\\partial x} \\log{\\left(x^{2} + y^{2} + z^{2} \\right)}\\mathbf{\\hat{v}_x} + \\frac{\\partial}{\\partial y} \\log{\\left(x^{2} + y^{2} + z^{2} \\right)}\\mathbf{\\hat{v}_y} + \\frac{d}{d z} 9\\mathbf{\\hat{v}_z}$"
      ],
      "text/plain": [
       "Derivative(log(x**2 + y**2 + z**2), x)*v.x + Derivative(log(x**2 + y**2 + z**2), y)*v.y + Derivative(9, z)*v.z"
      ]
     },
     "metadata": {},
     "output_type": "display_data"
    },
    {
     "data": {
      "text/latex": [
       "$\\displaystyle \\frac{2 x}{x^{2} + y^{2} + z^{2}}\\mathbf{\\hat{v}_x} + \\frac{2 y}{x^{2} + y^{2} + z^{2}}\\mathbf{\\hat{v}_y} + \\frac{2 z}{x^{2} + y^{2} + z^{2}}\\mathbf{\\hat{v}_z}$"
      ],
      "text/plain": [
       "2*x/(x**2 + y**2 + z**2)*v.x + 2*y/(x**2 + y**2 + z**2)*v.y + 2*z/(x**2 + y**2 + z**2)*v.z"
      ]
     },
     "metadata": {},
     "output_type": "display_data"
    }
   ],
   "source": [
    "from sympy . physics . vector import * \n",
    "from sympy import *\n",
    "x, y, z=symbols ('x,y,z')\n",
    "v= ReferenceFrame ('v')\n",
    "ϕ=log(x**2+y**2+z**2)\n",
    "print (\"\\n Gradient of is\")\n",
    "display(Derivative(ϕ,x)*v.x+Derivative(ϕ,y)*v.y+Derivative(9,z)*v.z)\n",
    "grado=diff(ϕ,x)*v.x+diff(ϕ,y)*v.y+diff(ϕ,z)*v.z\n",
    "display(grado)\n"
   ]
  },
  {
   "cell_type": "code",
   "execution_count": 103,
   "id": "3acec267-99ef-4764-93cf-8c729011d973",
   "metadata": {},
   "outputs": [
    {
     "name": "stdout",
     "output_type": "stream",
     "text": [
      "\n",
      " Gradient of is\n"
     ]
    },
    {
     "data": {
      "text/latex": [
       "$\\displaystyle \\frac{\\partial}{\\partial x} \\left(x^{3} + 3 x y z + y^{3} - 3\\right)\\mathbf{\\hat{v}_x} + \\frac{\\partial}{\\partial y} \\left(x^{3} + 3 x y z + y^{3} - 3\\right)\\mathbf{\\hat{v}_y} + \\frac{\\partial}{\\partial z} \\left(x^{3} + 3 x y z + y^{3} - 3\\right)\\mathbf{\\hat{v}_z}$"
      ],
      "text/plain": [
       "Derivative(x**3 + 3*x*y*z + y**3 - 3, x)*v.x + Derivative(x**3 + 3*x*y*z + y**3 - 3, y)*v.y + Derivative(x**3 + 3*x*y*z + y**3 - 3, z)*v.z"
      ]
     },
     "metadata": {},
     "output_type": "display_data"
    },
    {
     "data": {
      "text/latex": [
       "$\\displaystyle (3 x^{2} + 3 y z)\\mathbf{\\hat{v}_x} + (3 x z + 3 y^{2})\\mathbf{\\hat{v}_y} + 3 x y\\mathbf{\\hat{v}_z}$"
      ],
      "text/plain": [
       "(3*x**2 + 3*y*z)*v.x + (3*x*z + 3*y**2)*v.y + 3*x*y*v.z"
      ]
     },
     "metadata": {},
     "output_type": "display_data"
    },
    {
     "name": "stdout",
     "output_type": "stream",
     "text": [
      "Normal vector to the suface is \n"
     ]
    },
    {
     "data": {
      "text/latex": [
       "$\\displaystyle - 3\\mathbf{\\hat{v}_x} + 9\\mathbf{\\hat{v}_y} + 6\\mathbf{\\hat{v}_z}$"
      ],
      "text/plain": [
       "- 3*v.x + 9*v.y + 6*v.z"
      ]
     },
     "metadata": {},
     "output_type": "display_data"
    }
   ],
   "source": [
    "from sympy . physics . vector import * \n",
    "from sympy import *\n",
    "x, y, z=symbols ('x,y,z') \n",
    "v= ReferenceFrame ('v')\n",
    "ϕ=x**3+y**3+3*x*y*z-3\n",
    "print (\"\\n Gradient of is\")\n",
    "display (Derivative (ϕ, x) *v.x+Derivative (ϕ,y)*v.y+Derivative (ϕ,z) *v.z) \n",
    "grado= diff(ϕ,x)*v.x+diff(ϕ,y)*v.y+diff(ϕ,z) *v.z\n",
    "display(grado)\n",
    "NV=grado.subs({x:1,y: 2,z:-1})\n",
    "print('Normal vector to the suface is ')\n",
    "display (NV)\n"
   ]
  },
  {
   "cell_type": "code",
   "execution_count": 104,
   "id": "aac88158-72a3-4a76-b32c-aa0336d98b80",
   "metadata": {},
   "outputs": [
    {
     "name": "stdout",
     "output_type": "stream",
     "text": [
      "\n",
      " Divergence of the vector field f is\n"
     ]
    },
    {
     "data": {
      "text/latex": [
       "$\\displaystyle \\frac{\\partial}{\\partial x} x y^{2} + \\frac{\\partial}{\\partial z} \\left(- 3 y z^{2}\\right) + \\frac{\\partial}{\\partial y} 2 x^{2} y z$"
      ],
      "text/plain": [
       "Derivative(x*y**2, x) + Derivative(-3*y*z**2, z) + Derivative(2*x**2*y*z, y)"
      ]
     },
     "metadata": {},
     "output_type": "display_data"
    },
    {
     "data": {
      "text/latex": [
       "$\\displaystyle 2 x^{2} z + y^{2} - 6 y z$"
      ],
      "text/plain": [
       "2*x**2*z + y**2 - 6*y*z"
      ]
     },
     "metadata": {},
     "output_type": "display_data"
    }
   ],
   "source": [
    "from sympy . physics . vector import * \n",
    "from sympy import *\n",
    "x, y, z=symbols ('x,y,z') \n",
    "v= ReferenceFrame ('v')\n",
    "f1=x*y**2\n",
    "f2=2*x**2*y*z\n",
    "f3=-3*y*z**2\n",
    "f=f1*v.x+f2*v.y+f3*v.z\n",
    "print (\"\\n Divergence of the vector field f is\")\n",
    "display (Derivative(f1,x)+Derivative(f2, y) +Derivative (f3,z))\n",
    "divf=diff(f1,x)+diff(f2,y)+diff(f3,z)\n",
    "display(divf)\n"
   ]
  },
  {
   "cell_type": "code",
   "execution_count": 108,
   "id": "8bd78ea7-80b0-4db8-b7af-fdae320cc2ed",
   "metadata": {},
   "outputs": [
    {
     "name": "stdout",
     "output_type": "stream",
     "text": [
      "\n",
      " Divergence of the vector f is \n"
     ]
    },
    {
     "data": {
      "text/latex": [
       "$\\displaystyle \\frac{\\partial}{\\partial z} 3 x^{2} y^{2} + \\frac{\\partial}{\\partial y} 4 x^{3} z^{2} + \\frac{\\partial}{\\partial x} 3 y^{4} z^{2}$"
      ],
      "text/plain": [
       "Derivative(3*x**2*y**2, z) + Derivative(4*x**3*z**2, y) + Derivative(3*y**4*z**2, x)"
      ]
     },
     "metadata": {},
     "output_type": "display_data"
    },
    {
     "data": {
      "text/latex": [
       "$\\displaystyle 0$"
      ],
      "text/plain": [
       "0"
      ]
     },
     "metadata": {},
     "output_type": "display_data"
    },
    {
     "name": "stdout",
     "output_type": "stream",
     "text": [
      "The vector f is solenoidal\n"
     ]
    }
   ],
   "source": [
    "from sympy . physics . vector import * \n",
    "from sympy import *\n",
    "x, y, z=symbols ('x,y,z') \n",
    "v= ReferenceFrame ('v')\n",
    "f1=3*y**4*z**2\n",
    "f2=4*x**3*z**2\n",
    "f3=3*x**2*y**2\n",
    "f=f1*v.x+f2*v.y+f3*v.z\n",
    "\n",
    "print (\"\\n Divergence of the vector f is \") \n",
    "display (Derivative(f1,x)+Derivative(f2,y)+Derivative(f3,z))\n",
    "divf=diff(f1,x)+diff(f2,y)+diff(f3,z)\n",
    "display(divf)\n",
    "if divf==0:\n",
    "    print('The vector f is solenoidal')\n",
    "else:\n",
    "\n",
    "    print('The vector f is not solenoidal')"
   ]
  },
  {
   "cell_type": "code",
   "execution_count": 1,
   "id": "d2702461-d6b1-4f4b-91f6-b071ffcd9840",
   "metadata": {},
   "outputs": [
    {
     "name": "stdout",
     "output_type": "stream",
     "text": [
      "\n",
      " Gradient of is\n"
     ]
    },
    {
     "data": {
      "text/latex": [
       "$\\displaystyle \\frac{\\partial}{\\partial x} \\left(x^{2} y + x z^{2} + y^{2} z\\right)\\mathbf{\\hat{v}_x} + \\frac{\\partial}{\\partial y} \\left(x^{2} y + x z^{2} + y^{2} z\\right)\\mathbf{\\hat{v}_y} + \\frac{\\partial}{\\partial z} \\left(x^{2} y + x z^{2} + y^{2} z\\right)\\mathbf{\\hat{v}_z}$"
      ],
      "text/plain": [
       "Derivative(x**2*y + x*z**2 + y**2*z, x)*v.x + Derivative(x**2*y + x*z**2 + y**2*z, y)*v.y + Derivative(x**2*y + x*z**2 + y**2*z, z)*v.z"
      ]
     },
     "metadata": {},
     "output_type": "display_data"
    },
    {
     "data": {
      "text/latex": [
       "$\\displaystyle (2 x y + z^{2})\\mathbf{\\hat{v}_x} + (x^{2} + 2 y z)\\mathbf{\\hat{v}_y} + (2 x z + y^{2})\\mathbf{\\hat{v}_z}$"
      ],
      "text/plain": [
       "(2*x*y + z**2)*v.x + (x**2 + 2*y*z)*v.y + (2*x*z + y**2)*v.z"
      ]
     },
     "metadata": {},
     "output_type": "display_data"
    },
    {
     "name": "stdout",
     "output_type": "stream",
     "text": [
      "Normal vector to the suface is \n"
     ]
    },
    {
     "data": {
      "text/latex": [
       "$\\displaystyle 3\\mathbf{\\hat{v}_x} + 3\\mathbf{\\hat{v}_y} + 3\\mathbf{\\hat{v}_z}$"
      ],
      "text/plain": [
       "3*v.x + 3*v.y + 3*v.z"
      ]
     },
     "metadata": {},
     "output_type": "display_data"
    }
   ],
   "source": [
    "from sympy . physics . vector import * \n",
    "from sympy import *\n",
    "x, y, z=symbols ('x,y,z') \n",
    "v= ReferenceFrame ('v')\n",
    "ϕ=x**2*y + y**2*z + z**2*x\n",
    "\n",
    "print (\"\\n Gradient of is\")\n",
    "display (Derivative (ϕ, x) *v.x+Derivative (ϕ,y)*v.y+Derivative (ϕ,z) *v.z) \n",
    "grado= diff(ϕ,x)*v.x+diff(ϕ,y)*v.y+diff(ϕ,z) *v.z\n",
    "display(grado)\n",
    "NV=grado.subs({x:1,y: 1,z:1})\n",
    "print('Normal vector to the suface is ')\n",
    "display (NV)"
   ]
  },
  {
   "cell_type": "code",
   "execution_count": 2,
   "id": "ad25b54d-1e24-4fea-9291-377d9acf11cf",
   "metadata": {},
   "outputs": [
    {
     "name": "stdout",
     "output_type": "stream",
     "text": [
      "\n",
      " Gradient of  is\n"
     ]
    },
    {
     "data": {
      "text/latex": [
       "$\\displaystyle \\frac{\\partial}{\\partial x} \\log{\\left(x^{2} + y^{2} + z^{2} \\right)}\\mathbf{\\hat{v}_x} + \\frac{\\partial}{\\partial y} \\log{\\left(x^{2} + y^{2} + z^{2} \\right)}\\mathbf{\\hat{v}_y} + \\frac{\\partial}{\\partial z} \\log{\\left(x^{2} + y^{2} + z^{2} \\right)}\\mathbf{\\hat{v}_z}$"
      ],
      "text/plain": [
       "Derivative(log(x**2 + y**2 + z**2), x)*v.x + Derivative(log(x**2 + y**2 + z**2), y)*v.y + Derivative(log(x**2 + y**2 + z**2), z)*v.z"
      ]
     },
     "metadata": {},
     "output_type": "display_data"
    },
    {
     "data": {
      "text/latex": [
       "$\\displaystyle \\frac{2 x}{x^{2} + y^{2} + z^{2}}\\mathbf{\\hat{v}_x} + \\frac{2 y}{x^{2} + y^{2} + z^{2}}\\mathbf{\\hat{v}_y} + \\frac{2 z}{x^{2} + y^{2} + z^{2}}\\mathbf{\\hat{v}_z}$"
      ],
      "text/plain": [
       "2*x/(x**2 + y**2 + z**2)*v.x + 2*y/(x**2 + y**2 + z**2)*v.y + 2*z/(x**2 + y**2 + z**2)*v.z"
      ]
     },
     "metadata": {},
     "output_type": "display_data"
    },
    {
     "name": "stdout",
     "output_type": "stream",
     "text": [
      "Normal vector to the suface is \n"
     ]
    },
    {
     "data": {
      "text/latex": [
       "$\\displaystyle \\frac{2}{3}\\mathbf{\\hat{v}_x} + \\frac{2}{3}\\mathbf{\\hat{v}_y} + \\frac{2}{3}\\mathbf{\\hat{v}_z}$"
      ],
      "text/plain": [
       "2/3*v.x + 2/3*v.y + 2/3*v.z"
      ]
     },
     "metadata": {},
     "output_type": "display_data"
    }
   ],
   "source": [
    "from sympy . physics . vector import * \n",
    "from sympy import *\n",
    "x, y, z=symbols ('x,y,z') \n",
    "v= ReferenceFrame ('v')\n",
    "ϕ=log(x**2+y**2+z**2)\n",
    "\n",
    "print (\"\\n Gradient of  is\")\n",
    "display (Derivative (ϕ, x) *v.x+Derivative (ϕ,y)*v.y+Derivative (ϕ,z) *v.z) \n",
    "grado= diff(ϕ,x)*v.x+diff(ϕ,y)*v.y+diff(ϕ,z) *v.z\n",
    "display(grado)\n",
    "NV=grado.subs({x:1,y: 1,z:1})\n",
    "print('Normal vector to the suface is ')\n",
    "display (NV)"
   ]
  },
  {
   "cell_type": "code",
   "execution_count": 13,
   "id": "58d85b1f-b247-4c7a-94e6-2f1a72d5f259",
   "metadata": {},
   "outputs": [
    {
     "name": "stdout",
     "output_type": "stream",
     "text": [
      "\n",
      " Gradient of  is\n"
     ]
    },
    {
     "data": {
      "text/latex": [
       "$\\displaystyle \\frac{\\partial}{\\partial x} \\left(x^{2} y + 2 x z - 4\\right)\\mathbf{\\hat{v}_x} + \\frac{\\partial}{\\partial y} \\left(x^{2} y + 2 x z - 4\\right)\\mathbf{\\hat{v}_y} + \\frac{\\partial}{\\partial z} \\left(x^{2} y + 2 x z - 4\\right)\\mathbf{\\hat{v}_z}$"
      ],
      "text/plain": [
       "Derivative(x**2*y + 2*x*z - 4, x)*v.x + Derivative(x**2*y + 2*x*z - 4, y)*v.y + Derivative(x**2*y + 2*x*z - 4, z)*v.z"
      ]
     },
     "metadata": {},
     "output_type": "display_data"
    },
    {
     "data": {
      "text/latex": [
       "$\\displaystyle (2 x y + 2 z)\\mathbf{\\hat{v}_x} + x^{2}\\mathbf{\\hat{v}_y} + 2 x\\mathbf{\\hat{v}_z}$"
      ],
      "text/plain": [
       "(2*x*y + 2*z)*v.x + x**2*v.y + 2*x*v.z"
      ]
     },
     "metadata": {},
     "output_type": "display_data"
    },
    {
     "name": "stdout",
     "output_type": "stream",
     "text": [
      "Unit Normal vector to the suface is \n"
     ]
    },
    {
     "data": {
      "text/latex": [
       "$\\displaystyle 4\\mathbf{\\hat{v}_x} + \\mathbf{\\hat{v}_y} + 2\\mathbf{\\hat{v}_z}$"
      ],
      "text/plain": [
       "4*v.x + v.y + 2*v.z"
      ]
     },
     "metadata": {},
     "output_type": "display_data"
    }
   ],
   "source": [
    "from sympy . physics . vector import * \n",
    "from sympy import *\n",
    "x, y, z=symbols ('x,y,z') \n",
    "v= ReferenceFrame ('v')\n",
    "ϕ=x**2*y+2*x*z-4\n",
    "\n",
    "print (\"\\n Gradient of  is\")\n",
    "display (Derivative (ϕ, x) *v.x+Derivative (ϕ,y)*v.y+Derivative (ϕ,z) *v.z) \n",
    "grado= diff(ϕ,x)*v.x+diff(ϕ,y)*v.y+diff(ϕ,z) *v.z\n",
    "display(grado)\n",
    "NV=grado.subs({x:1,y: 1,z:1})\n",
    "print('Unit Normal vector to the suface is ')\n",
    "display (NV/sqrt(21))"
   ]
  },
  {
   "cell_type": "code",
   "execution_count": 7,
   "id": "bf6d44fd-cb24-4311-a0a2-0aeb6c9917f8",
   "metadata": {},
   "outputs": [
    {
     "name": "stdout",
     "output_type": "stream",
     "text": [
      "\n",
      " Divergence of the vector f is \n"
     ]
    },
    {
     "data": {
      "text/latex": [
       "$\\displaystyle \\frac{\\partial}{\\partial x} \\left(- x^{2} + y z\\right) + \\frac{\\partial}{\\partial z} \\left(2 x z - 4 z\\right) + \\frac{\\partial}{\\partial y} \\left(- x z^{2} + 4 y\\right)$"
      ],
      "text/plain": [
       "Derivative(-x**2 + y*z, x) + Derivative(2*x*z - 4*z, z) + Derivative(-x*z**2 + 4*y, y)"
      ]
     },
     "metadata": {},
     "output_type": "display_data"
    },
    {
     "data": {
      "text/latex": [
       "$\\displaystyle 0$"
      ],
      "text/plain": [
       "0"
      ]
     },
     "metadata": {},
     "output_type": "display_data"
    },
    {
     "name": "stdout",
     "output_type": "stream",
     "text": [
      "The vector f is solenoidal\n"
     ]
    }
   ],
   "source": [
    "from sympy . physics . vector import * \n",
    "from sympy import *\n",
    "x, y, z=symbols ('x,y,z') \n",
    "v= ReferenceFrame ('v')\n",
    "f1=-x**2+y*z\n",
    "f2=-z**2*x +4*y\n",
    "f3=2*x*z-4*z\n",
    "f=f1*v.x+f2*v.y+f3*v.z\n",
    "\n",
    "print (\"\\n Divergence of the vector f is \") \n",
    "display (Derivative(f1,x)+Derivative(f2,y)+Derivative(f3,z))\n",
    "divf=diff(f1,x)+diff(f2,y)+diff(f3,z)\n",
    "display(divf)\n",
    "if divf==0:\n",
    "    print('The vector f is solenoidal')\n",
    "else:\n",
    "\n",
    "    print('The vector f is not solenoidal')"
   ]
  },
  {
   "cell_type": "code",
   "execution_count": null,
   "id": "f8f28daf-0eed-466b-91c5-d99726c7f013",
   "metadata": {},
   "outputs": [],
   "source": []
  },
  {
   "cell_type": "code",
   "execution_count": null,
   "id": "d4351b4a-7b7a-4482-b13d-9dd6785f21e8",
   "metadata": {},
   "outputs": [],
   "source": []
  }
 ],
 "metadata": {
  "kernelspec": {
   "display_name": "Python 3 (ipykernel)",
   "language": "python",
   "name": "python3"
  },
  "language_info": {
   "codemirror_mode": {
    "name": "ipython",
    "version": 3
   },
   "file_extension": ".py",
   "mimetype": "text/x-python",
   "name": "python",
   "nbconvert_exporter": "python",
   "pygments_lexer": "ipython3",
   "version": "3.11.7"
  }
 },
 "nbformat": 4,
 "nbformat_minor": 5
}
