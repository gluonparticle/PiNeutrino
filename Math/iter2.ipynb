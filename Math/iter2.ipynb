{
 "cells": [
  {
   "cell_type": "code",
   "execution_count": 1,
   "id": "fe422ec4-abe1-4555-8552-217d1d2aceb1",
   "metadata": {
    "scrolled": true
   },
   "outputs": [
    {
     "name": "stdout",
     "output_type": "stream",
     "text": [
      "\n",
      " Gradient of is\n"
     ]
    },
    {
     "data": {
      "text/latex": [
       "$\\displaystyle \\frac{\\partial}{\\partial x} \\left(x^{3} + 3 x y z + y^{3} - 3\\right)\\mathbf{\\hat{v}_x} + \\frac{\\partial}{\\partial y} \\left(x^{3} + 3 x y z + y^{3} - 3\\right)\\mathbf{\\hat{v}_y} + \\frac{\\partial}{\\partial z} \\left(x^{3} + 3 x y z + y^{3} - 3\\right)\\mathbf{\\hat{v}_z}$"
      ],
      "text/plain": [
       "Derivative(x**3 + 3*x*y*z + y**3 - 3, x)*v.x + Derivative(x**3 + 3*x*y*z + y**3 - 3, y)*v.y + Derivative(x**3 + 3*x*y*z + y**3 - 3, z)*v.z"
      ]
     },
     "metadata": {},
     "output_type": "display_data"
    },
    {
     "data": {
      "text/latex": [
       "$\\displaystyle (3 x^{2} + 3 y z)\\mathbf{\\hat{v}_x} + (3 x z + 3 y^{2})\\mathbf{\\hat{v}_y} + 3 x y\\mathbf{\\hat{v}_z}$"
      ],
      "text/plain": [
       "(3*x**2 + 3*y*z)*v.x + (3*x*z + 3*y**2)*v.y + 3*x*y*v.z"
      ]
     },
     "metadata": {},
     "output_type": "display_data"
    },
    {
     "name": "stdout",
     "output_type": "stream",
     "text": [
      "Normal vector to the suface is \n"
     ]
    },
    {
     "data": {
      "text/latex": [
       "$\\displaystyle - 3\\mathbf{\\hat{v}_x} + 9\\mathbf{\\hat{v}_y} + 6\\mathbf{\\hat{v}_z}$"
      ],
      "text/plain": [
       "- 3*v.x + 9*v.y + 6*v.z"
      ]
     },
     "metadata": {},
     "output_type": "display_data"
    }
   ],
   "source": [
    "from sympy . physics . vector import * \n",
    "from sympy import *\n",
    "x, y, z=symbols ('x,y,z') \n",
    "v= ReferenceFrame ('v')\n",
    "ϕ=x**3+y**3+3*x*y*z-3\n",
    "print (\"\\n Gradient of is\")\n",
    "display (Derivative (ϕ, x) *v.x+Derivative (ϕ,y)*v.y+Derivative (ϕ,z) *v.z) \n",
    "grado= diff(ϕ,x)*v.x+diff(ϕ,y)*v.y+diff(ϕ,z) *v.z\n",
    "display(grado)\n",
    "NV=grado.subs({x:1,y: 2,z:-1})\n",
    "print('Normal vector to the suface is ')\n",
    "display (NV)"
   ]
  },
  {
   "cell_type": "code",
   "execution_count": 2,
   "id": "5c8ccb4d-8dde-4491-be3e-cf11927c6e60",
   "metadata": {},
   "outputs": [
    {
     "name": "stdout",
     "output_type": "stream",
     "text": [
      "\n",
      " Divergence of the vector f is \n"
     ]
    },
    {
     "data": {
      "text/latex": [
       "$\\displaystyle \\frac{\\partial}{\\partial x} \\left(- x^{2} + y z\\right) + \\frac{\\partial}{\\partial z} \\left(2 x z - 4 z\\right) + \\frac{\\partial}{\\partial y} \\left(- x z^{2} + 4 y\\right)$"
      ],
      "text/plain": [
       "Derivative(-x**2 + y*z, x) + Derivative(2*x*z - 4*z, z) + Derivative(-x*z**2 + 4*y, y)"
      ]
     },
     "metadata": {},
     "output_type": "display_data"
    },
    {
     "data": {
      "text/latex": [
       "$\\displaystyle 0$"
      ],
      "text/plain": [
       "0"
      ]
     },
     "metadata": {},
     "output_type": "display_data"
    },
    {
     "name": "stdout",
     "output_type": "stream",
     "text": [
      "The vector f is solenoidal\n"
     ]
    }
   ],
   "source": [
    "from sympy . physics . vector import * \n",
    "from sympy import *\n",
    "x, y, z=symbols ('x,y,z') \n",
    "v= ReferenceFrame ('v')\n",
    "f1=-x**2+y*z\n",
    "f2=-z**2*x +4*y\n",
    "f3=2*x*z-4*z\n",
    "f=f1*v.x+f2*v.y+f3*v.z\n",
    "\n",
    "print (\"\\n Divergence of the vector f is \") \n",
    "display (Derivative(f1,x)+Derivative(f2,y)+Derivative(f3,z))\n",
    "divf=diff(f1,x)+diff(f2,y)+diff(f3,z)\n",
    "display(divf)\n",
    "if divf==0:\n",
    "    print('The vector f is solenoidal')\n",
    "else:\n",
    "\n",
    "    print('The vector f is not solenoidal')"
   ]
  },
  {
   "cell_type": "code",
   "execution_count": 12,
   "id": "21ee23fd-373f-4f12-96d9-63dc29053634",
   "metadata": {},
   "outputs": [
    {
     "data": {
      "text/latex": [
       "$\\displaystyle \\int\\limits_{0}^{\\log{\\left(2 \\right)}}\\int\\limits_{0}^{x}\\int\\limits_{0}^{x + \\log{\\left(y \\right)}} e^{x + y + z}\\, dz\\, dy\\, dx$"
      ],
      "text/plain": [
       "Integral(exp(x + y + z), (z, 0, x + log(y)), (y, 0, x), (x, 0, log(2)))"
      ]
     },
     "metadata": {},
     "output_type": "display_data"
    },
    {
     "data": {
      "text/latex": [
       "$\\displaystyle - \\frac{19}{9} + \\frac{8 \\log{\\left(2 \\right)}}{3}$"
      ],
      "text/plain": [
       "-19/9 + 8*log(2)/3"
      ]
     },
     "metadata": {},
     "output_type": "display_data"
    }
   ],
   "source": [
    "from sympy import * \n",
    "x, y, z=symbols ('x,y,z')\n",
    "f=exp(x+y+z)\n",
    "I=Integral(f,(z,0,x+log(y)),(y,0,x),(x,0,log(2))) \n",
    "display(I)\n",
    "I=integrate(f, (z,0,x+log(y)), (y,0,x),(x,0,log(2)))\n",
    "I=simplify(I)\n",
    "display(I)"
   ]
  },
  {
   "cell_type": "code",
   "execution_count": 15,
   "id": "9ce702b4-15ef-43c6-8334-6ed60a915089",
   "metadata": {},
   "outputs": [
    {
     "data": {
      "text/latex": [
       "$\\displaystyle \\int\\limits_{0}^{4 a}\\int\\limits_{\\frac{x^{2}}{4 a}}^{2 \\sqrt{a x}} 1\\, dy\\, dx$"
      ],
      "text/plain": [
       "Integral(1, (y, x**2/(4*a), 2*sqrt(a*x)), (x, 0, 4*a))"
      ]
     },
     "metadata": {},
     "output_type": "display_data"
    },
    {
     "data": {
      "text/latex": [
       "$\\displaystyle - \\frac{16 a^{2}}{3} + \\frac{32 \\left(a^{2}\\right)^{\\frac{3}{2}}}{3 a}$"
      ],
      "text/plain": [
       "-16*a**2/3 + 32*(a**2)**(3/2)/(3*a)"
      ]
     },
     "metadata": {},
     "output_type": "display_data"
    }
   ],
   "source": [
    "from sympy import *\n",
    "x,y,a=symbols ('x, y, a')\n",
    "A=Integral (1,(y,x**2/(4*a),2*sqrt(a*x)),(x,0,4*a)) \n",
    "display (A)\n",
    "A1=integrate(1,(y,x**2/(4*a),2*sqrt(a*x)),(x,0,4*a)) \n",
    "display (A1)"
   ]
  },
  {
   "cell_type": "code",
   "execution_count": 16,
   "id": "14db3460-5283-43fb-a4d1-1255d4181319",
   "metadata": {},
   "outputs": [
    {
     "data": {
      "text/latex": [
       "$\\displaystyle \\int\\limits_{0}^{1}\\int\\limits_{0}^{\\sqrt{1 - y^{2}}} x^{3} y\\, dx\\, dy$"
      ],
      "text/plain": [
       "Integral(x**3*y, (x, 0, sqrt(1 - y**2)), (y, 0, 1))"
      ]
     },
     "metadata": {},
     "output_type": "display_data"
    },
    {
     "name": "stdout",
     "output_type": "stream",
     "text": [
      "I= 1/24\n"
     ]
    }
   ],
   "source": [
    "from sympy import*\n",
    "x,y=symbols('x,y') \n",
    "f=(x**3)*y\n",
    "I=Integral(f,(x,0,sqrt(1-y**2)),(y,0,1))\n",
    "display(I)\n",
    "I=integrate(f,(x,0,sqrt(1-y**2)), (y,0,1))\n",
    "print('I=',I)"
   ]
  },
  {
   "cell_type": "code",
   "execution_count": 18,
   "id": "0883d85e-d185-47b1-ad2e-a3e5a24b1018",
   "metadata": {},
   "outputs": [
    {
     "data": {
      "text/latex": [
       "$\\displaystyle \\int\\limits_{0}^{a}\\int\\limits_{0}^{b \\left(1 - \\frac{x}{a}\\right)}\\int\\limits_{0}^{c \\left(1 - \\frac{y}{b} - \\frac{x}{a}\\right)} 1\\, dz\\, dy\\, dx$"
      ],
      "text/plain": [
       "Integral(1, (z, 0, c*(1 - y/b - x/a)), (y, 0, b*(1 - x/a)), (x, 0, a))"
      ]
     },
     "metadata": {},
     "output_type": "display_data"
    },
    {
     "data": {
      "text/latex": [
       "$\\displaystyle \\frac{a b c}{6}$"
      ],
      "text/plain": [
       "a*b*c/6"
      ]
     },
     "metadata": {},
     "output_type": "display_data"
    }
   ],
   "source": [
    "from sympy import*\n",
    "x,y,z,a,b,c=symbols ('x,y,z,a,b,c')\n",
    "A=Integral(1,(z,0,c*(1-(x/a)-(y/b))), (y,0,b*(1-(x/a))),(x,0,a))\n",
    "display (A)\n",
    "A1=integrate (1,(z,0,c*(1-(x/a)-(y/b))), (y,0,b*(1-(x/a))),(x,0,a)) \n",
    "display (A1)"
   ]
  },
  {
   "cell_type": "code",
   "execution_count": 3,
   "id": "5977d579-c696-44a0-8e6b-0acd5772ac55",
   "metadata": {},
   "outputs": [
    {
     "name": "stdin",
     "output_type": "stream",
     "text": [
      "Enter the value of n to find (n): \n"
     ]
    },
    {
     "ename": "ValueError",
     "evalue": "could not convert string to float: ''",
     "output_type": "error",
     "traceback": [
      "\u001b[1;31m---------------------------------------------------------------------------\u001b[0m",
      "\u001b[1;31mValueError\u001b[0m                                Traceback (most recent call last)",
      "Cell \u001b[1;32mIn[3], line 2\u001b[0m\n\u001b[0;32m      1\u001b[0m \u001b[38;5;28;01mfrom\u001b[39;00m \u001b[38;5;21;01msympy\u001b[39;00m \u001b[38;5;28;01mimport\u001b[39;00m \u001b[38;5;241m*\u001b[39m\n\u001b[1;32m----> 2\u001b[0m n\u001b[38;5;241m=\u001b[39m\u001b[38;5;28mfloat\u001b[39m(\u001b[38;5;28minput\u001b[39m(\u001b[38;5;124m'\u001b[39m\u001b[38;5;124mEnter the value of n to find (n):\u001b[39m\u001b[38;5;124m'\u001b[39m))\n\u001b[0;32m      3\u001b[0m m\u001b[38;5;241m=\u001b[39m\u001b[38;5;28mfloat\u001b[39m(\u001b[38;5;28minput\u001b[39m(\u001b[38;5;124m'\u001b[39m\u001b[38;5;124mEnter the value of n to find ẞ(m, n):\u001b[39m\u001b[38;5;124m'\u001b[39m))\n\u001b[0;32m      4\u001b[0m gn\u001b[38;5;241m=\u001b[39mgamma (n)\n",
      "\u001b[1;31mValueError\u001b[0m: could not convert string to float: ''"
     ]
    }
   ],
   "source": [
    "from sympy import *\n",
    "n=float(input('Enter the value of n to find (n):'))\n",
    "m=float(input('Enter the value of n to find ẞ(m, n):'))\n",
    "gn=gamma (n)\n",
    "gm=gamma (m)\n",
    "gmn=gamma (m+n)\n",
    "print(f'Γ({m}) = %0.4f '%gm, f' \\nг({n})=%0.4f'%gn, f' \\n ̃({m}+{n})=%0.4f'%gmn)\n",
    "bmn=beta(m, n)\n",
    "print(f'B({m}, {n})=%0.4f'%bmn)\n",
    "rhs=(gn*gm)/gmn\n",
    "print('R.H.S= %0.4f'%rhs)\n",
    "if bmn==rhs:\n",
    "    print('ẞ(m,n)=(г(m)*(n))/г(m+n)')\n",
    "else:\n",
    "\n",
    "    print('ẞ(m,n)!=(r(m)*r(n))/(m+n)')\n"
   ]
  },
  {
   "cell_type": "code",
   "execution_count": 8,
   "id": "ed992e05-d1bb-482b-b528-f20d75a19761",
   "metadata": {},
   "outputs": [
    {
     "data": {
      "text/latex": [
       "$\\displaystyle \\int\\limits_{0}^{4 a}\\int\\limits_{\\frac{x^{2}}{4 a}}^{2 \\sqrt{a x}} 1\\, dy\\, dx = - \\frac{16 a^{2}}{3} + \\frac{32 \\left(a^{2}\\right)^{\\frac{3}{2}}}{3 a}$"
      ],
      "text/plain": [
       "Eq(Integral(1, (y, x**2/(4*a), 2*sqrt(a*x)), (x, 0, 4*a)), -16*a**2/3 + 32*(a**2)**(3/2)/(3*a))"
      ]
     },
     "metadata": {},
     "output_type": "display_data"
    }
   ],
   "source": [
    "from sympy import *\n",
    "x,y,z,a,b,c,θ,r=symbols('x,y,z,a,b,c,θ,r')\n",
    "f=1\n",
    "\n",
    "A=Integral(f,(y,x**2/(4*a),2*sqrt(a*x)),(x,0,4*a))\n",
    "A2=integrate(f,(y,x**2/(4*a),2*sqrt(a*x)),(x,0,4*a))\n",
    "display(Eq(A,A2))\n",
    "\n",
    "\n"
   ]
  },
  {
   "cell_type": "code",
   "execution_count": null,
   "id": "bf60e2f9-e231-4f55-b428-0d2177183bdf",
   "metadata": {},
   "outputs": [],
   "source": []
  }
 ],
 "metadata": {
  "kernelspec": {
   "display_name": "Python 3 (ipykernel)",
   "language": "python",
   "name": "python3"
  },
  "language_info": {
   "codemirror_mode": {
    "name": "ipython",
    "version": 3
   },
   "file_extension": ".py",
   "mimetype": "text/x-python",
   "name": "python",
   "nbconvert_exporter": "python",
   "pygments_lexer": "ipython3",
   "version": "3.11.7"
  },
  "widgets": {
   "application/vnd.jupyter.widget-state+json": {
    "state": {},
    "version_major": 2,
    "version_minor": 0
   }
  }
 },
 "nbformat": 4,
 "nbformat_minor": 5
}
